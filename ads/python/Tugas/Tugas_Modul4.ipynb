{
 "cells": [
  {
   "cell_type": "markdown",
   "id": "97f7956d",
   "metadata": {},
   "source": [
    "##### 1. LIFO"
   ]
  },
  {
   "cell_type": "code",
   "execution_count": 5,
   "id": "5b609ee5",
   "metadata": {},
   "outputs": [
    {
     "name": "stdout",
     "output_type": "stream",
     "text": [
      "Teks saat ini: Halo\n",
      "Teks saat ini: Halo namaku\n",
      "Teks saat ini: Halo\n",
      "Program selesai\n"
     ]
    }
   ],
   "source": [
    "def lifo():\n",
    "    stack = []\n",
    "    \n",
    "    while True:\n",
    "        user_input = input('Masukkan kata/UNDO/EXIT').strip()\n",
    "        \n",
    "        if user_input.upper() == 'EXIT':\n",
    "            print('Program selesai')\n",
    "            break\n",
    "        elif user_input.upper() == 'UNDO':\n",
    "            if stack:\n",
    "                stack.pop()\n",
    "            else:\n",
    "                print('Tidak ada yang bisa di-undo')\n",
    "        else:\n",
    "            stack.append(user_input)\n",
    "            \n",
    "        print('Teks saat ini:', ' '.join(stack))\n",
    "\n",
    "if __name__ == '__main__':\n",
    "    lifo()"
   ]
  },
  {
   "cell_type": "markdown",
   "id": "4b96cb2b",
   "metadata": {},
   "source": [
    "##### 2. FIFO"
   ]
  },
  {
   "cell_type": "code",
   "execution_count": 6,
   "id": "69fe4535",
   "metadata": {},
   "outputs": [
    {
     "name": "stdout",
     "output_type": "stream",
     "text": [
      "Pelanggan 'Kevin' masuk ke antrian.\n",
      "Antrian saat ini: ['Kevin']\n",
      "Pelanggan 'Cahyono' masuk ke antrian.\n",
      "Antrian saat ini: ['Kevin', 'Cahyono']\n",
      "Pelanggan 'Kevin' telah dilayani.\n",
      "Antrian saat ini: ['Cahyono']\n",
      "Pelanggan 'Cahyono' telah dilayani.\n",
      "Antrian saat ini: []\n",
      "Antrian kosong, tidak ada yang dilayani.\n",
      "Antrian saat ini: []\n",
      "Program selesai\n"
     ]
    }
   ],
   "source": [
    "def ticket_queue():\n",
    "    queue = []\n",
    "    \n",
    "    while True:\n",
    "        user_input = input('Masukkan nama/LAYANI/EXIT: ').strip()\n",
    "        \n",
    "        if user_input.upper() == 'EXIT':\n",
    "            print('Program selesai')\n",
    "            break\n",
    "        elif user_input.upper() == 'LAYANI':\n",
    "            if queue:\n",
    "                served = queue.pop(0)\n",
    "                print(f\"Pelanggan '{served}' telah dilayani.\")\n",
    "            else:\n",
    "                print('Antrian kosong, tidak ada yang dilayani.')\n",
    "        else:\n",
    "            queue.append(user_input)\n",
    "            print(f\"Pelanggan '{user_input}' masuk ke antrian.\")\n",
    "        \n",
    "        print('Antrian saat ini:', queue)\n",
    "        \n",
    "if __name__ == '__main__':\n",
    "    ticket_queue()"
   ]
  }
 ],
 "metadata": {
  "kernelspec": {
   "display_name": "Python 3",
   "language": "python",
   "name": "python3"
  },
  "language_info": {
   "codemirror_mode": {
    "name": "ipython",
    "version": 3
   },
   "file_extension": ".py",
   "mimetype": "text/x-python",
   "name": "python",
   "nbconvert_exporter": "python",
   "pygments_lexer": "ipython3",
   "version": "3.13.7"
  }
 },
 "nbformat": 4,
 "nbformat_minor": 5
}
