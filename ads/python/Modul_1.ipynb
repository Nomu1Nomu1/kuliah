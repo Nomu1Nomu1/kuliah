{
  "cells": [
    {
      "cell_type": "markdown",
      "metadata": {
        "id": "Ao8QrXJiZfhi"
      },
      "source": [
        "Modul Praktikum: Tipe Data Array dan Linked List dalam Python"
      ]
    },
    {
      "cell_type": "markdown",
      "metadata": {
        "id": "K1jP_EyvZnN_"
      },
      "source": [
        "Tujuan Pembelajaran\n",
        "\n",
        "Setelah mengikuti praktikum ini, mahasiswa diharapkan mampu:\n",
        "\n",
        "    Memahami konsep dasar array dan linked list.\n",
        "    Mengimplementasikan array dan linked list menggunakan Python.\n",
        "    Membedakan kelebihan dan kekurangan masing-masing struktur data.\n",
        "    Menyelesaikan permasalahan sederhana menggunakan array dan linked list.\n"
      ]
    },
    {
      "cell_type": "markdown",
      "metadata": {
        "id": "l3psXKRyaQiX"
      },
      "source": [
        "## Bagian 1: Array\n",
        "\n",
        "Array adalah struktur data yang menyimpan elemen-elemen dalam satu blok memori yang berurutan. Di Python, array bisa diwakili dengan list atau menggunakan modul array."
      ]
    },
    {
      "cell_type": "code",
      "execution_count": 6,
      "metadata": {
        "colab": {
          "base_uri": "https://localhost:8080/",
          "height": 0
        },
        "id": "9MP_J1GzaulJ",
        "outputId": "b9822189-bc2f-4063-cf06-50e057b5c34c"
      },
      "outputs": [
        {
          "name": "stdout",
          "output_type": "stream",
          "text": [
            "mangga\n"
          ]
        }
      ],
      "source": [
        "# Menggunakan list\n",
        "buah = [\"apel\", \"jeruk\", \"mangga\"]\n",
        "buah.append(\"pisang\")\n",
        "buah.append(\"pepaya\")\n",
        "print(buah[2]) # Output: ?"
      ]
    },
    {
      "cell_type": "code",
      "execution_count": null,
      "metadata": {
        "colab": {
          "base_uri": "https://localhost:8080/",
          "height": 0
        },
        "id": "Yn7EklhkbQtG",
        "outputId": "e912d105-b80f-4db7-e08d-ca4d94dc0bf2"
      },
      "outputs": [
        {
          "name": "stdout",
          "output_type": "stream",
          "text": [
            "5\n"
          ]
        }
      ],
      "source": [
        "#Menggunakan modul array\n",
        "import array\n",
        "angka = array.array('i', [1, 2, 3, 4])\n",
        "angka.append(5)\n",
        "print(angka[4])  # Output: ?"
      ]
    },
    {
      "cell_type": "markdown",
      "metadata": {
        "id": "R-JvX-35bz3U"
      },
      "source": [
        "Latihan Praktikum\n",
        "\n",
        "\n",
        "    Buat array yang menyimpan 5 nama mahasiswa.\n",
        "    Tambahkan satu nama baru ke array.\n",
        "    Cetak nama mahasiswa ke-3.\n",
        "    Hitung jumlah elemen dalam array."
      ]
    },
    {
      "cell_type": "code",
      "execution_count": 4,
      "metadata": {},
      "outputs": [
        {
          "name": "stdout",
          "output_type": "stream",
          "text": [
            "Wahyu\n",
            "jumlah mahasiswa:  6\n"
          ]
        }
      ],
      "source": [
        "mahasiswa = ['Alfa', 'Dimas', 'Wahyu', 'Isna', 'Arlita']\n",
        "mahasiswa.append('Della')\n",
        "total = len(mahasiswa)\n",
        "print(mahasiswa[2])\n",
        "print(\"jumlah mahasiswa: \", total)"
      ]
    },
    {
      "cell_type": "markdown",
      "metadata": {
        "id": "gr8FDKbNb_YF"
      },
      "source": [
        "## Bagian 2: Linked List\n",
        "\n",
        "Linked list adalah struktur data linier yang terdiri dari node-node, di mana setiap node berisi data dan pointer ke node berikutnya."
      ]
    },
    {
      "cell_type": "code",
      "execution_count": 10,
      "metadata": {
        "colab": {
          "base_uri": "https://localhost:8080/",
          "height": 0
        },
        "id": "TebvgnnMclFk",
        "outputId": "3ebfd1d6-0560-44aa-a1c3-42ef5a1ba8fb"
      },
      "outputs": [
        {
          "name": "stdout",
          "output_type": "stream",
          "text": [
            "A -> D -> S -> C -> None\n"
          ]
        }
      ],
      "source": [
        "class Node:\n",
        "    def __init__(self, data):\n",
        "        self.data = data\n",
        "        self.next = None\n",
        "\n",
        "class LinkedList:\n",
        "    def __init__(self):\n",
        "        self.head = None\n",
        "\n",
        "    def tambah_di_akhir(self, data):\n",
        "        node_baru = Node(data)\n",
        "        if self.head is None:\n",
        "            self.head = node_baru\n",
        "        else:\n",
        "            temp = self.head\n",
        "            while temp.next:\n",
        "                temp = temp.next\n",
        "            temp.next = node_baru\n",
        "\n",
        "    def tampilkan(self):\n",
        "        temp = self.head\n",
        "        while temp:\n",
        "            print(temp.data, end=\" -> \")\n",
        "            temp = temp.next\n",
        "        print(\"None\")\n",
        "\n",
        "# Contoh penggunaan\n",
        "ll = LinkedList()\n",
        "ll.tambah_di_akhir(\"A\")\n",
        "ll.tambah_di_akhir(\"D\")\n",
        "ll.tambah_di_akhir(\"S\")\n",
        "ll.tambah_di_akhir(\"C\")\n",
        "ll.tampilkan()  # Output: ?\n"
      ]
    },
    {
      "cell_type": "markdown",
      "metadata": {
        "id": "AglbGPspdq4X"
      },
      "source": [
        "Latihan Praktikum\n",
        "\n",
        "    Buat kelas Node dan LinkedList.\n",
        "    Tambahkan 3 elemen ke linked list.\n",
        "    Buat fungsi untuk menampilkan semua elemen.\n",
        "    Tambahkan fungsi untuk menghapus elemen pertama.\n"
      ]
    },
    {
      "cell_type": "code",
      "execution_count": 3,
      "metadata": {},
      "outputs": [
        {
          "name": "stdout",
          "output_type": "stream",
          "text": [
            "Linked list sebelum dihapus: \n",
            "10 -> 20 -> 30 -> end\n",
            "Linked list setelah dihapus: \n",
            "20 -> 30 -> end\n"
          ]
        }
      ],
      "source": [
        "class Node:\n",
        "    def __init__(self, data):\n",
        "        self.data = data\n",
        "        self.next = None\n",
        "    \n",
        "class LinkedList:\n",
        "    def __init__(self):\n",
        "        self.head = None\n",
        "    \n",
        "    def tambah_elemen(self, data):\n",
        "        new_node = Node(data)\n",
        "        \n",
        "        if self.head is None:\n",
        "            self.head = new_node\n",
        "        else:\n",
        "            temp = self.head\n",
        "            while temp.next:\n",
        "                temp = temp.next\n",
        "            temp.next = new_node\n",
        "            \n",
        "    def delete_element(self):\n",
        "        temp = self.head\n",
        "        self.head = self.head.next\n",
        "        temp = None\n",
        "        \n",
        "    def show_elemen(self):\n",
        "        temp = self.head\n",
        "        while temp:\n",
        "            print(temp.data, end=' -> ')\n",
        "            temp = temp.next\n",
        "        print('end')\n",
        "        \n",
        "ll = LinkedList()\n",
        "ll.tambah_elemen(10)\n",
        "ll.tambah_elemen(20)\n",
        "ll.tambah_elemen(30)\n",
        "\n",
        "print('Linked list sebelum dihapus: ')\n",
        "ll.show_elemen()\n",
        "\n",
        "ll.delete_element()\n",
        "print('Linked list setelah dihapus: ')\n",
        "ll.show_elemen()"
      ]
    },
    {
      "cell_type": "markdown",
      "metadata": {
        "id": "B3SQqDN4fA_O"
      },
      "source": [
        "## Studi Kasus 1: Penggunaan Array — Manajemen Stok Barang\n",
        "\n",
        "Sebuah toko ingin menyimpan daftar stok barang dan melakukan operasi seperti menambah barang baru, menghapus barang, dan menampilkan semua barang."
      ]
    },
    {
      "cell_type": "code",
      "execution_count": 11,
      "metadata": {
        "colab": {
          "base_uri": "https://localhost:8080/",
          "height": 0
        },
        "id": "heYdFDVmfHjP",
        "outputId": "24898caf-f6e6-4445-981f-1bd95d7afd7f"
      },
      "outputs": [
        {
          "name": "stdout",
          "output_type": "stream",
          "text": [
            "Stok saat ini:\n",
            "- Beras\n",
            "- Minyak\n",
            "- Tepung\n",
            "- Kopi\n"
          ]
        }
      ],
      "source": [
        "# Daftar stok barang\n",
        "stok_barang = [\"Beras\", \"Gula\", \"Minyak\", \"Tepung\"]\n",
        "\n",
        "# Menambah barang baru\n",
        "stok_barang.append(\"Kopi\")\n",
        "\n",
        "# Menghapus barang yang habis\n",
        "stok_barang.remove(\"Gula\")\n",
        "\n",
        "# Menampilkan semua barang\n",
        "print(\"Stok saat ini:\")\n",
        "for barang in stok_barang:\n",
        "    print(\"-\", barang)\n",
        "\n",
        "\n",
        "#append() digunakan untuk menambah barang.\n",
        "#remove() digunakan untuk menghapus barang.\n",
        "#Cocok digunakan saat jumlah data tidak terlalu besar dan akses indeks cepat dibutuhkan."
      ]
    },
    {
      "cell_type": "markdown",
      "metadata": {
        "id": "o5cyAYf8fjrJ"
      },
      "source": [
        "## Studi Kasus 2: Penggunaan Linked List — Antrian Pendaftaran Klinik\n",
        "\n",
        "\n",
        "Sebuah klinik memiliki sistem antrian pendaftaran pasien. Pasien datang satu per satu dan dilayani sesuai urutan kedatangan."
      ]
    },
    {
      "cell_type": "code",
      "execution_count": 12,
      "metadata": {
        "colab": {
          "base_uri": "https://localhost:8080/",
          "height": 0
        },
        "id": "wfMCGWy2fsb9",
        "outputId": "e84bb75b-0169-4571-b7a4-40e6c5606cbe"
      },
      "outputs": [
        {
          "name": "stdout",
          "output_type": "stream",
          "text": [
            "Antrian pasien:\n",
            "- Ali\n",
            "- Budi\n",
            "- Citra\n",
            "Melayani pasien: Ali\n",
            "Antrian pasien:\n",
            "- Budi\n",
            "- Citra\n"
          ]
        }
      ],
      "source": [
        "class Node:\n",
        "    def __init__(self, nama):\n",
        "        self.nama = nama\n",
        "        self.next = None\n",
        "\n",
        "class AntrianPasien:\n",
        "    def __init__(self):\n",
        "        self.head = None\n",
        "\n",
        "    def tambah_pasien(self, nama):\n",
        "        pasien_baru = Node(nama)\n",
        "        if not self.head:\n",
        "            self.head = pasien_baru\n",
        "        else:\n",
        "            temp = self.head\n",
        "            while temp.next:\n",
        "                temp = temp.next\n",
        "            temp.next = pasien_baru\n",
        "\n",
        "    def layani_pasien(self):\n",
        "        if self.head:\n",
        "            print(f\"Melayani pasien: {self.head.nama}\")\n",
        "            self.head = self.head.next\n",
        "        else:\n",
        "            print(\"Tidak ada pasien dalam antrian.\")\n",
        "\n",
        "    def tampilkan_antrian(self):\n",
        "        temp = self.head\n",
        "        print(\"Antrian pasien:\")\n",
        "        while temp:\n",
        "            print(\"-\", temp.nama)\n",
        "            temp = temp.next\n",
        "\n",
        "# Contoh penggunaan\n",
        "antrian = AntrianPasien()\n",
        "antrian.tambah_pasien(\"Ali\")\n",
        "antrian.tambah_pasien(\"Budi\")\n",
        "antrian.tambah_pasien(\"Citra\")\n",
        "antrian.tampilkan_antrian()\n",
        "antrian.layani_pasien()\n",
        "antrian.tampilkan_antrian()\n",
        "\n",
        "\n",
        "#Cocok untuk sistem antrian karena linked list mendukung operasi enqueue dan dequeue dengan efisien.\n",
        "#Tidak perlu menggeser elemen seperti pada array saat menghapus elemen pertama."
      ]
    },
    {
      "cell_type": "markdown",
      "metadata": {
        "id": "qgULwgmT2t4H"
      },
      "source": [
        "## operasi enqueue dan dequeue\n",
        "\n",
        "Enqueue\n",
        "\n",
        "    Definisi: Menambahkan elemen ke akhir antrian.\n",
        "    Contoh analogi: Seorang pasien baru datang ke klinik dan mendaftar di urutan terakhir.\n",
        "\n",
        "Dequeue\n",
        "\n",
        "    Definisi: Menghapus elemen dari awal antrian (elemen yang paling lama masuk).\n",
        "    Contoh analogi: Pasien yang sudah paling lama menunggu akan dilayani terlebih dahulu.\n"
      ]
    },
    {
      "cell_type": "code",
      "execution_count": 1,
      "metadata": {
        "colab": {
          "base_uri": "https://localhost:8080/",
          "height": 0
        },
        "id": "PrD0VsUz3Cct",
        "outputId": "8ea11070-b33b-4a50-9648-c7e406cdb004"
      },
      "outputs": [
        {
          "name": "stdout",
          "output_type": "stream",
          "text": [
            "Isi antrian:\n",
            "- Pasien A\n",
            "- Pasien B\n",
            "- Pasien C\n",
            "Pasien dilayani: Pasien A\n",
            "Isi antrian:\n",
            "- Pasien B\n",
            "- Pasien C\n"
          ]
        }
      ],
      "source": [
        "class Node:\n",
        "    def __init__(self, data):\n",
        "        self.data = data\n",
        "        self.next = None\n",
        "\n",
        "class Queue:\n",
        "    def __init__(self):\n",
        "        self.front = None\n",
        "        self.rear = None\n",
        "\n",
        "    def enqueue(self, data):\n",
        "        new_node = Node(data)\n",
        "        if self.rear is None:\n",
        "            self.front = self.rear = new_node\n",
        "        else:\n",
        "            self.rear.next = new_node\n",
        "            self.rear = new_node\n",
        "\n",
        "    def dequeue(self):\n",
        "        if self.front is None:\n",
        "            print(\"Antrian kosong.\")\n",
        "            return None\n",
        "        removed_data = self.front.data\n",
        "        self.front = self.front.next\n",
        "        if self.front is None:\n",
        "            self.rear = None\n",
        "        return removed_data\n",
        "\n",
        "    def tampilkan(self):\n",
        "        temp = self.front\n",
        "        print(\"Isi antrian:\")\n",
        "        while temp:\n",
        "            print(\"-\", temp.data)\n",
        "            temp = temp.next\n",
        "\n",
        "# Contoh penggunaan\n",
        "antrian = Queue()\n",
        "antrian.enqueue(\"Pasien A\")\n",
        "antrian.enqueue(\"Pasien B\")\n",
        "antrian.enqueue(\"Pasien C\")\n",
        "antrian.tampilkan()\n",
        "\n",
        "print(\"Pasien dilayani:\", antrian.dequeue())\n",
        "antrian.tampilkan()\n"
      ]
    },
    {
      "cell_type": "markdown",
      "metadata": {
        "id": "tWeHkVfZemYM"
      },
      "source": [
        "## Tugas Individu (V3425067_Isaiah Tino Surya Saputra)\n",
        "a.Buat program Python yang dapat:\n",
        "\n",
        "    Menyimpan data nilai mahasiswa dalam array.\n",
        "    Mengurutkan nilai dari yang terbesar ke terkecil.\n",
        "    Menyimpan nama mahasiswa dalam linked list.\n",
        "    Menampilkan nama-nama tersebut secara berurutan."
      ]
    },
    {
      "cell_type": "code",
      "execution_count": 4,
      "metadata": {},
      "outputs": [
        {
          "name": "stdout",
          "output_type": "stream",
          "text": [
            "nilai sebelum disortir: \n",
            "[65, 43, 53, 67, 84, 66, 100, 76]\n",
            "nilai setelah disortir: \n",
            "[100, 84, 76, 67, 66, 65, 53, 43]\n",
            "List Mahasiswa: \n",
            "- Zuldan\n",
            "- Faki\n",
            "- Hasna\n",
            "- Angga\n",
            "List Mahasiswa(Urut nama): \n",
            "- Angga\n",
            "- Faki\n",
            "- Hasna\n",
            "- Zuldan\n"
          ]
        }
      ],
      "source": [
        "nilai = [65, 43, 53, 67, 84, 66, 100, 76]\n",
        "nilai_sorted = sorted(nilai, reverse=True)\n",
        "\n",
        "print(\"nilai sebelum disortir: \")\n",
        "print(nilai)\n",
        "print(\"nilai setelah disortir: \")\n",
        "print(nilai_sorted)\n",
        "\n",
        "class Node:\n",
        "    def __init__(self, data):\n",
        "        self.data = data\n",
        "        self.next = None\n",
        "        \n",
        "class LinkedList:\n",
        "    def __init__(self):\n",
        "        self.head = None\n",
        "        \n",
        "    def insert_mhs(self, data):\n",
        "        new_node = Node(data)\n",
        "        \n",
        "        if self.head is None:\n",
        "            self.head = new_node\n",
        "        else:\n",
        "            temp = self.head\n",
        "            while temp.next:\n",
        "                temp = temp.next\n",
        "            temp.next = new_node\n",
        "            \n",
        "        \n",
        "    def show_mhs(self):\n",
        "        temp = self.head\n",
        "        while temp:\n",
        "            print('-', temp.data)\n",
        "            temp = temp.next\n",
        "        \n",
        "    def sort_mhs(self):\n",
        "        names = []\n",
        "        temp = self.head\n",
        "        while temp:\n",
        "            names.append(temp.data)\n",
        "            temp = temp.next\n",
        "            \n",
        "        names.sort()\n",
        "        \n",
        "        self.head = None\n",
        "        for name in names:\n",
        "            self.insert_mhs(name)\n",
        "        \n",
        "ll = LinkedList()\n",
        "ll.insert_mhs(\"Zuldan\")\n",
        "ll.insert_mhs(\"Faki\")\n",
        "ll.insert_mhs(\"Hasna\")\n",
        "ll.insert_mhs(\"Angga\")\n",
        "\n",
        "print(\"List Mahasiswa: \")\n",
        "ll.show_mhs()\n",
        "\n",
        "ll.sort_mhs()\n",
        "print(\"List Mahasiswa(Urut nama): \")\n",
        "ll.show_mhs()"
      ]
    },
    {
      "cell_type": "markdown",
      "metadata": {
        "id": "XnXJXJmFgVQh"
      },
      "source": [
        "b.Jelaskan perbedaan dan penggunaan array dan linked list beserta kelemahan dan keunggulannya"
      ]
    },
    {
      "cell_type": "markdown",
      "metadata": {},
      "source": [
        "Perbedaan array dan linked list terletak pada penyimpanannya. Array list elemen array disimpan di memori secara berdekatan, untuk penggunaannya memerlukan akses acak ke elemen. Sedangkan linked list elemen elemennya tersebar di berbagai lokasi memori, hubungan antara elemen satu dan yang lain dipertahankan melalui pointer, untuk penggunaannya dapat tumbuh atau menyusut secara alami tanpa perlu alokasi ulang memori secara besar-besaran, yang membuatnya sangat fleksibel dalam hal ukuran.\n",
        "\n",
        "Kelemahan Array:\n",
        "- Ukuran tetap\n",
        "- Penyisipan dan penghapusan yang lambat\n",
        "\n",
        "Keunggulan Array:\n",
        "- Akses yang cepat\n",
        "- Penggunaan memori yang efisien\n",
        "\n",
        "Kelemahan Linked List:\n",
        "- Penyipisan dan penghapusan data yang cepat\n",
        "- Ukuran yang dinamis\n",
        "\n",
        "Keunggulan Linked List:\n",
        "- Akses ke elemen indeks yang lambat\n",
        "- Memori overhead"
      ]
    }
  ],
  "metadata": {
    "colab": {
      "provenance": []
    },
    "kernelspec": {
      "display_name": "Python 3",
      "name": "python3"
    },
    "language_info": {
      "codemirror_mode": {
        "name": "ipython",
        "version": 3
      },
      "file_extension": ".py",
      "mimetype": "text/x-python",
      "name": "python",
      "nbconvert_exporter": "python",
      "pygments_lexer": "ipython3",
      "version": "3.13.5"
    }
  },
  "nbformat": 4,
  "nbformat_minor": 0
}
