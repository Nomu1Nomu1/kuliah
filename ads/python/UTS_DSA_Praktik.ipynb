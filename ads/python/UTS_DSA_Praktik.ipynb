{
  "nbformat": 4,
  "nbformat_minor": 0,
  "metadata": {
    "colab": {
      "provenance": []
    },
    "kernelspec": {
      "name": "python3",
      "display_name": "Python 3"
    },
    "language_info": {
      "name": "python"
    }
  },
  "cells": [
    {
      "cell_type": "markdown",
      "source": [
        "##UTS DSA Praktik\n",
        "\n",
        "Ketentuan :\n",
        "\n",
        "      1. UTS Praktik dikerjakan berkelompok dan dipresentasikan berdasarkan studi kasus yang sudah dibagi\n",
        "      2. Setiap anggota kelompok wajib memiliki jobdesk yang akan dipresentasikan\n",
        "      3. Konten presentasi berupa implementasi dan penjelasan 'manual run through' algoritma yang digunakan untuk menyelesaikan permasalahan studi kasus yang diberikan\n",
        "      mencakup struktur data serta operasi yang digunakan.\n",
        "\n",
        "\n",
        "    "
      ],
      "metadata": {
        "id": "PNio2ZhZlzGz"
      }
    },
    {
      "cell_type": "markdown",
      "source": [
        "Manual Run Through adalah proses menjalankan atau menguji suatu sistem, algoritma, atau program secara manual langkah demi langkah, biasanya tanpa menggunakan komputer atau eksekusi otomatis, untuk memastikan bahwa logika atau alur kerja sudah benar.\n",
        "\n",
        "    Tujuan Manual Run Through:\n",
        "    Memahami bagaimana algoritma bekerja secara detail.\n",
        "    Menemukan kesalahan logika sebelum program dijalankan.\n",
        "    Melatih kemampuan analisis dan debugging."
      ],
      "metadata": {
        "id": "YRvODAz2rTct"
      }
    },
    {
      "cell_type": "markdown",
      "source": [
        "Pilihan Algoritma\n",
        "\n",
        "    Searching/Pencarian:\n",
        "    Lineiar Search\n",
        "    Binary Search\n",
        "\n",
        "    Sorting/Pengurutan:\n",
        "    Bubble Sort\n",
        "    Selection Sort\n",
        "    Insertion Sort\n",
        "    Merge Sort\n",
        "    Quick Sort"
      ],
      "metadata": {
        "id": "534xd4DFnnwV"
      }
    },
    {
      "cell_type": "markdown",
      "source": [
        "##STUDI KASUS\n",
        "\n",
        "⚙️ Kelompok 1: Sistem Pencarian Buku di Perpustakaan\n",
        "\n",
        "📚 Background Permasalahan:\n",
        "Perpustakaan kampus memiliki ribuan koleksi buku yang tersimpan dalam sistem digital. Mahasiswa sering kesulitan mencari buku tertentu karena data belum terstruktur dengan baik. Diperlukan sistem pencarian yang efisien untuk membantu mahasiswa menemukan buku berdasarkan judul atau pengarang.\n",
        "\n",
        "    Algoritma: Linear Search, Binary Search\n",
        "    Struktur Data: Array atau List\n",
        "    Sorting: Bubble Sort atau Selection Sort\n",
        "    Tugas: Implementasikan pencarian buku dan urutkan daftar buku berdasarkan judul.\n",
        "\n",
        "\n",
        "⚙️ Kelompok 2: Manajemen Antrian Pasien di Klinik\n",
        "\n",
        "🏥 Background Permasalahan:\n",
        "Klinik kampus melayani banyak pasien setiap hari. Untuk menjaga keteraturan, sistem antrian digital diperlukan. Selain itu, petugas perlu mencari data pasien tertentu dalam antrian untuk keperluan administrasi.\n",
        "\n",
        "    Algoritma: Linear Search\n",
        "    Struktur Data: Queue\n",
        "    Sorting: Insertion Sort\n",
        "    Tugas: Simulasikan antrian pasien dan pencarian berdasarkan nama, serta urutkan berdasarkan waktu kedatangan.\n",
        "\n",
        "\n",
        "⚙️ Kelompok 3: Sistem Penjadwalan Mata Kuliah\n",
        "\n",
        "📅 Background Permasalahan:\n",
        "Penjadwalan mata kuliah sering mengalami bentrok karena tidak ada sistem yang mengurutkan jadwal secara otomatis. Diperlukan sistem yang dapat mengurutkan jadwal berdasarkan jam mulai dan mencari mata kuliah tertentu.\n",
        "\n",
        "    Algoritma: Binary Search\n",
        "    Struktur Data: List atau Array\n",
        "    Sorting: Merge Sort\n",
        "    Tugas: Urutkan jadwal mata kuliah dan cari mata kuliah berdasarkan nama.\n",
        "\n",
        "\n",
        "⚙️ Kelompok 4: Manajemen File Arsip Digital\n",
        "\n",
        "🗂️ Background Permasalahan:\n",
        "Instansi kampus menyimpan banyak file digital dalam folder-folder yang tidak terorganisir. Untuk memudahkan pencarian dan pengurutan file, dibutuhkan sistem manajemen arsip yang efisien.\n",
        "\n",
        "    Algoritma: Linear Search\n",
        "    Struktur Data: Linked List\n",
        "    Sorting: Quick Sort\n",
        "    Tugas: Simulasikan daftar file dan pencarian berdasarkan nama, serta urutkan berdasarkan ukuran file.\n",
        "\n",
        "\n",
        "⚙️ Kelompok 5: Sistem Pemesanan Tiket Online\n",
        "\n",
        "🎟️ Background Permasalahan:\n",
        "Sistem pemesanan tiket acara kampus sering mengalami overload karena pemrosesan data tidak efisien. Diperlukan sistem yang dapat menyimpan data pemesan secara terstruktur dan memungkinkan pencarian cepat.\n",
        "\n",
        "    Algoritma: Linear Search\n",
        "    Struktur Data: Stack\n",
        "    Sorting: Selection Sort\n",
        "    Tugas: Simulasikan pemesanan tiket dan pencarian berdasarkan ID, serta urutkan berdasarkan waktu pemesanan.\n",
        "\n",
        "\n",
        "⚙️ Kelompok 6: Analisis Data Nilai Mahasiswa\n",
        "\n",
        "📊 Background Permasalahan:\n",
        "Dosen membutuhkan sistem untuk menganalisis nilai mahasiswa, termasuk mengurutkan nilai dan mencari nilai tertentu untuk evaluasi. Sistem ini harus efisien dan mudah digunakan.\n",
        "\n",
        "    Algoritma: Binary Search\n",
        "    Struktur Data: Array atau List\n",
        "    Sorting: Insertion Sort dan Merge Sort\n",
        "    Tugas: Urutkan nilai mahasiswa dan cari nilai tertentu, serta tampilkan ranking.\n",
        "\n",
        "\n",
        "⚙️ Kelompok 7: Sistem Inventaris Barang di Gudang\n",
        "\n",
        "\n",
        "🏬 Background Permasalahan:\n",
        "Gudang kampus menyimpan berbagai barang inventaris. Untuk keperluan audit dan pengelolaan, dibutuhkan sistem yang dapat mencari barang berdasarkan kode dan mengurutkan berdasarkan jumlah stok.\n",
        "\n",
        "    Algoritma: Binary Search\n",
        "    Struktur Data: Linked List\n",
        "    Sorting: Quick Sort\n",
        "    Tugas: Simulasikan daftar barang dan pencarian berdasarkan kode, serta urutkan berdasarkan stok.\n"
      ],
      "metadata": {
        "id": "RliHYAXBrMo-"
      }
    },
    {
      "cell_type": "markdown",
      "source": [
        "##Isi Slide Presentasi\n",
        "\n",
        "Setiap kelompok wajib menyertakan:\n",
        "\n",
        "    Diagram alur/Flowchart algoritma\n",
        "    Kode Python\n",
        "    Manual run through\n",
        "    Dokumentasi hasil dan analisis\n",
        "\n",
        "Dokumentasi Hasil\n",
        "    Berisi:\n",
        "\n",
        "    Deskripsi program: Penjelasan singkat tentang apa yang dilakukan program.\n",
        "    Struktur data yang digunakan: Misalnya array, linked list, stack, queue.\n",
        "    Algoritma yang digunakan: Misalnya Bubble Sort, Binary Search.\n",
        "    Cuplikan kode utama: Bagian penting dari kode Python yang menunjukkan implementasi algoritma.\n",
        "    Output program: Hasil yang ditampilkan saat program dijalankan.\n",
        "    Screenshot hasil eksekusi (jika diminta).\n",
        "\n",
        "Contoh:\n",
        "\n",
        "Program ini menggunakan Bubble Sort untuk mengurutkan daftar nilai mahasiswa, kemudian Binary Search untuk mencari nilai tertentu. Struktur data yang digunakan adalah array. Output menunjukkan urutan nilai dan hasil pencarian.\n",
        "\n",
        "\n",
        "Analisis\n",
        "    Berisi:\n",
        "\n",
        "    Penjelasan alur algoritma: Bagaimana data diproses dari awal hingga akhir.\n",
        "    Manual run through: Penelusuran manual langkah demi langkah untuk satu contoh input.\n",
        "    Kompleksitas waktu (time complexity): Misalnya Bubble Sort = O(n²), Binary Search = O(log n).\n",
        "    Kelebihan dan kekurangan algoritma: Misalnya Bubble Sort mudah dipahami tapi lambat untuk data besar.\n",
        "    Alternatif solusi (jika ada): Misalnya menggunakan Merge Sort untuk efisiensi lebih baik.\n",
        "\n",
        "Contoh:\n",
        "\n",
        "Bubble Sort memiliki kompleksitas waktu O(n²), sehingga kurang efisien untuk data besar. Binary Search hanya bisa digunakan setelah data terurut. Dalam kasus ini, Merge Sort bisa menjadi alternatif yang lebih cepat.\n",
        "\n",
        "\n",
        "Kesimpulan\n",
        "    Berisi:\n",
        "\n",
        "    Ringkasan hasil yang diperoleh.\n",
        "    Refleksi pembelajaran: Apa yang dipelajari dari studi kasus ini.\n",
        "    Saran pengembangan: Misalnya menambahkan fitur pencarian berdasarkan kategori.\n",
        "\n",
        "    \n",
        "Penilaian dapat mencakup aspek:\n",
        "\n",
        "    Kebenaran algoritma\n",
        "    Efisiensi kode\n",
        "    Kreativitas dalam pemodelan data\n",
        "    Kemampuan kerja tim"
      ],
      "metadata": {
        "id": "MxEy0GxBroGL"
      }
    },
    {
      "cell_type": "markdown",
      "source": [
        "#Referensi\n",
        "\n",
        "1. contoh diagram/flowchart algoritma\n",
        "    https://badoystudio.com/contoh-algoritma-dan-flowchart/\n",
        "2. membuat flowchart\n",
        "    https://www.drawio.com/doc/getting-started-basic-flow-chart"
      ],
      "metadata": {
        "id": "urkz_JN0xbzS"
      }
    },
    {
      "cell_type": "code",
      "source": [],
      "metadata": {
        "id": "mTzjf7-HxdGn"
      },
      "execution_count": null,
      "outputs": []
    }
  ]
}