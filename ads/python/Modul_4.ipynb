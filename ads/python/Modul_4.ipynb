{
  "nbformat": 4,
  "nbformat_minor": 0,
  "metadata": {
    "colab": {
      "provenance": []
    },
    "kernelspec": {
      "name": "python3",
      "display_name": "Python 3"
    },
    "language_info": {
      "name": "python"
    }
  },
  "cells": [
    {
      "cell_type": "markdown",
      "source": [
        "Modul Praktikum: Struktur data stack dan queue"
      ],
      "metadata": {
        "id": "VMOEUnSw6Xke"
      }
    },
    {
      "cell_type": "markdown",
      "source": [
        "Tujuan Pembelajaran\n",
        "\n",
        "Setelah mengikuti praktikum ini, mahasiswa diharapkan mampu:\n",
        "\n",
        "    Memahami konsep dasar stack dan queue.\n",
        "    Mengimplementasikan stack dan queue menggunakan Python.\n",
        "    Mahasiswa dapat membuat program yang menggunakan stack dan queue untuk menyelesaikan masalah sederhana.\n",
        "    Mahasiswa dapat mengimplementasikan operasi push/pop dan enqueue/dequeue."
      ],
      "metadata": {
        "id": "84tEMAAq7LKJ"
      }
    },
    {
      "cell_type": "markdown",
      "source": [
        "Referensi :\n",
        "\n",
        "    https://www.w3schools.com/dsa/dsa_data_stacks.php\n",
        "    https://www.w3schools.com/dsa/dsa_data_queues.php\n",
        "    https://www.w3schools.com/python/python_dsa_stacks.asp\n",
        "    https://www.w3schools.com/python/python_dsa_queues.asp"
      ],
      "metadata": {
        "id": "7B5cZdR-9cJY"
      }
    },
    {
      "cell_type": "markdown",
      "source": [
        "## Bagian 1: Stack\n",
        "\n",
        "Stack adalah struktur data yang dapat menampung banyak elemen, di mana elemen yang terakhir ditambahkan akan menjadi elemen pertama yang dihapus. Pengorganisasian elemen dengan cara ini disebut sebagai LIFO (Last In, First Out), yaitu terakhir masuk, pertama keluar."
      ],
      "metadata": {
        "id": "OBdMfLf3zq_v"
      }
    },
    {
      "cell_type": "markdown",
      "source": [
        "## Operasi Dasar Pada Stack\n",
        "\n",
        "- **Push**: Menambahkan elemen baru kedalam stacks\n",
        "- **Pop**: Menghapus dan mengembalikan elemen teratas pada stacks\n",
        "- **Peek**: Melihat (tanpa menghapus) elemen teratas (terakhir) pada stack\n",
        "- **isEmpty**: Mengecek apakah stacks kosong\n",
        "- **Size**: Menghitung jumlah elemen dalam stack"
      ],
      "metadata": {
        "id": "bmjBUxQSKQFY"
      }
    },
    {
      "cell_type": "code",
      "source": [
        "#Contoh Implementasi Stack Sederhana Menggunakan Python List\n",
        "\n",
        "stack = []\n",
        "\n",
        "# Push\n",
        "stack.append('A')\n",
        "stack.append('B')\n",
        "stack.append('C')\n",
        "print(\"Stack: \", stack)\n",
        "\n",
        "# Peek\n",
        "topElement = stack[-1]\n",
        "print(\"Peek: \", topElement)\n",
        "\n",
        "# Pop\n",
        "poppedElement = stack.pop()\n",
        "print(\"Pop: \", poppedElement)\n",
        "\n",
        "# Stack after Pop\n",
        "print(\"Stack after Pop: \", stack)\n",
        "\n",
        "# isEmpty\n",
        "isEmpty = not bool(stack)\n",
        "print(\"isEmpty: \", isEmpty)\n",
        "\n",
        "# Size\n",
        "print(\"Size: \",len(stack))"
      ],
      "metadata": {
        "colab": {
          "base_uri": "https://localhost:8080/"
        },
        "id": "oQF0fK-8vwHd",
        "outputId": "f000f8f2-6313-46f4-cbe0-652d221b02f4"
      },
      "execution_count": 9,
      "outputs": [
        {
          "output_type": "stream",
          "name": "stdout",
          "text": [
            "Stack:  ['A', 'B', 'C']\n",
            "Peek:  C\n",
            "Pop:  C\n",
            "Stack after Pop:  ['A', 'B']\n",
            "isEmpty:  False\n",
            "Size:  2\n"
          ]
        }
      ]
    },
    {
      "cell_type": "markdown",
      "source": [
        "## Implementasi Stack Menggunakan Arrays\n"
      ],
      "metadata": {
        "id": "IM3ok7hLRGQA"
      }
    },
    {
      "cell_type": "markdown",
      "source": [
        "### Alasan menggunakan list/array untuk mengimplementasikan stack:\n",
        "- Efisiem Memori, elemen array tidak perlu menyimpan alamat elemen berikutnya seperti halnya node pada linked list.\n",
        "- Lebih mudah diimplementasikan dan dipahami, array untuk stack memerlukan kode yang lebih sedikit dibanding linked list, sehingga mudah dipahami.\n",
        "\n",
        "### Alasan untuk tidak menggunakan array list:\n",
        "- Ukuran tetap, array menempati bagian memori dengan ukuran tetap."
      ],
      "metadata": {
        "id": "LERDQrcbmLk2"
      }
    },
    {
      "cell_type": "markdown",
      "source": [
        "### Menggunakan Kelas (Class) di Python\n",
        "Class Stack digunakan untuk membungkus operasi stack agar lebih modular dan menjaga *encapsulation*."
      ],
      "metadata": {
        "id": "c7VisOCepTEF"
      }
    },
    {
      "cell_type": "code",
      "source": [
        "class Stack:\n",
        "  def __init__(self):\n",
        "    self.stack = []\n",
        "\n",
        "  def push(self, element):\n",
        "    self.stack.append(element)\n",
        "\n",
        "  def pop(self):\n",
        "    if self.isEmpty():\n",
        "      return \"Stack is empty\"\n",
        "    return self.stack.pop()\n",
        "\n",
        "  def peek(self):\n",
        "    if self.isEmpty():\n",
        "      return \"Stack is empty\"\n",
        "    return self.stack[-1]\n",
        "\n",
        "  def isEmpty(self):\n",
        "    return len(self.stack) == 0\n",
        "\n",
        "  def size(self):\n",
        "    return len(self.stack)\n",
        "\n",
        "# Create a stack\n",
        "myStack = Stack()\n",
        "\n",
        "myStack.push('A')\n",
        "myStack.push('B')\n",
        "myStack.push('C')\n",
        "\n",
        "print(\"Stack: \", myStack.stack)\n",
        "print(\"Pop: \", myStack.pop())\n",
        "print(\"Stack after Pop: \", myStack.stack)\n",
        "print(\"Peek: \", myStack.peek())\n",
        "print(\"isEmpty: \", myStack.isEmpty())\n",
        "print(\"Size: \", myStack.size())"
      ],
      "metadata": {
        "colab": {
          "base_uri": "https://localhost:8080/"
        },
        "id": "7ikKP5iBRqRm",
        "outputId": "cec43430-1708-489f-d5c6-f905a0d761d4"
      },
      "execution_count": 8,
      "outputs": [
        {
          "output_type": "stream",
          "name": "stdout",
          "text": [
            "Stack:  ['A', 'B', 'C']\n",
            "Pop:  C\n",
            "Stack after Pop:  ['A', 'B']\n",
            "Peek:  B\n",
            "isEmpty:  False\n",
            "Size:  2\n"
          ]
        }
      ]
    },
    {
      "cell_type": "markdown",
      "source": [
        "## Stack Implementation Using Linked Lists\n",
        "\n",
        "- Alih-alih menggunakan array/list, kita bisa menggunakan node yang tiap node merujuk ke node berikutnya. Top stack diwakili oleh head node.\n",
        "- Keuntungan: ukuran stack bersifat dinamis, mudah menambah/hapus node tanpa perlu shift data pada array.\n",
        "- Kekurangan: overhead memori karena setiap node perlu menyimpan pointer ke node berikutnya."
      ],
      "metadata": {
        "id": "A9AVzD3lqPpx"
      }
    },
    {
      "cell_type": "code",
      "source": [
        "#Implementasi stack menggunakan Linked List\n",
        "\n",
        "class Node:\n",
        "    def __init__(self, value):\n",
        "        self.value = value\n",
        "        self.next = None\n",
        "\n",
        "class Stack:\n",
        "    def __init__(self):\n",
        "        self.head = None\n",
        "        self.size = 0\n",
        "\n",
        "    def push(self, value):\n",
        "        new_node = Node(value)\n",
        "        if self.head:\n",
        "            new_node.next = self.head\n",
        "        self.head = new_node\n",
        "        self.size += 1\n",
        "\n",
        "    def pop(self):\n",
        "        if self.isEmpty():\n",
        "            return \"Stack is empty\"\n",
        "        popped_node = self.head\n",
        "        self.head = self.head.next\n",
        "        self.size -= 1\n",
        "        return popped_node.value\n",
        "\n",
        "    def peek(self):\n",
        "        if self.isEmpty():\n",
        "            return \"Stack is empty\"\n",
        "        return self.head.value\n",
        "\n",
        "    def isEmpty(self):\n",
        "        return self.size == 0\n",
        "\n",
        "    def stackSize(self):\n",
        "        return self.size\n",
        "\n",
        "myStack = Stack()\n",
        "myStack.push('A')\n",
        "myStack.push('B')\n",
        "myStack.push('C')\n",
        "\n",
        "print(\"Pop: \", myStack.pop())\n",
        "print(\"Peek: \", myStack.peek())\n",
        "print(\"isEmpty: \", myStack.isEmpty())\n",
        "print(\"Size: \", myStack.stackSize())"
      ],
      "metadata": {
        "colab": {
          "base_uri": "https://localhost:8080/"
        },
        "id": "hFRBQ_5ithyh",
        "outputId": "5aa47411-b86f-48c5-ae99-aabf8fdbd80e"
      },
      "execution_count": 7,
      "outputs": [
        {
          "output_type": "stream",
          "name": "stdout",
          "text": [
            "Pop:  C\n",
            "Peek:  B\n",
            "isEmpty:  False\n",
            "Size:  2\n"
          ]
        }
      ]
    },
    {
      "cell_type": "markdown",
      "source": [
        "# Bagian 2: Queue\n",
        "\n",
        "### Pengertian\n",
        "Queue atau antrian adalah struktur data yang bisa menampung banyak elemen.\n",
        "Bayangkan seperti orang-orang yang sedang antre di kasir supermarket.\n"
      ],
      "metadata": {
        "id": "Zc6z7Y-9zzYg"
      }
    },
    {
      "cell_type": "markdown",
      "source": [
        "### Operasi dasar pada Queue:\n",
        "1. Enqueue → menambahkan data ke dalam antrian.\n",
        "2. Dequeue → mengambil dan menghapus data paling depan dari antrian.\n",
        "3. Peek → melihat data paling depan tanpa menghapusnya.\n",
        "4. isEmpty → mengecek apakah antrian kosong.\n",
        "5. Size → menghitung jumlah data di dalam antrian."
      ],
      "metadata": {
        "id": "FxvacTkKtNn2"
      }
    },
    {
      "cell_type": "markdown",
      "source": [
        "## A. Queue dengan Array\n",
        "Kelebihan:\n",
        "\n",
        "- Lebih hemat memori, karena array hanya menyimpan data (tidak perlu alamat pointer).\n",
        "\n",
        "- Mudah dibuat, kodenya lebih singkat dan gampang dipahami.\n",
        "\n",
        "Kekurangan:\n",
        "\n",
        "- fixed size/Ukuran tetap → kalau penuh tidak bisa ditambah lagi.\n",
        "\n",
        "- Shifting cost: (Perlu geser data saat dequeue) karena elemen pertama dihapus lalu sisanya harus bergeser.\n",
        "\n",
        "- Kurang efisien untuk antrian besar.\n"
      ],
      "metadata": {
        "id": "r-ByFgdSNiuH"
      }
    },
    {
      "cell_type": "code",
      "source": [
        "\n",
        "\n",
        "queue = []\n",
        "\n",
        "# Enqueue\n",
        "queue.append('A')\n",
        "queue.append('B')\n",
        "queue.append('C')\n",
        "print(\"Queue: \", queue)\n",
        "\n",
        "# Dequeue\n",
        "element = queue.pop(0)\n",
        "print(\"Dequeue: \", element)\n",
        "\n",
        "# Peek\n",
        "frontElement = queue[0]\n",
        "print(\"Peek: \", frontElement)\n",
        "\n",
        "# isEmpty\n",
        "isEmpty = not bool(queue)\n",
        "print(\"isEmpty: \", isEmpty)\n",
        "\n",
        "# Size\n",
        "print(\"Size: \", len(queue))\n",
        "\n",
        "\n",
        "## Dengan Class Queue:\n",
        "\n",
        "class Queue:\n",
        "    def __init__(self):\n",
        "        self.queue = []\n",
        "\n",
        "    def enqueue(self, element):\n",
        "        self.queue.append(element)\n",
        "\n",
        "    def dequeue(self):\n",
        "        if self.isEmpty():\n",
        "            return \"Queue is empty\"\n",
        "        return self.queue.pop(0)\n",
        "\n",
        "    def peek(self):\n",
        "        if self.isEmpty():\n",
        "            return \"Queue is empty\"\n",
        "        return self.queue[0]\n",
        "\n",
        "    def isEmpty(self):\n",
        "        return len(self.queue) == 0\n",
        "\n",
        "    def size(self):\n",
        "        return len(self.queue)\n",
        "\n",
        "# Create a queue\n",
        "myQueue = Queue()\n",
        "\n",
        "myQueue.enqueue('A')\n",
        "myQueue.enqueue('B')\n",
        "myQueue.enqueue('C')\n",
        "print(\"Queue: \", myQueue.queue)\n",
        "print(\"Dequeue: \", myQueue.dequeue())\n",
        "print(\"Peek: \", myQueue.peek())\n",
        "print(\"isEmpty: \", myQueue.isEmpty())\n",
        "print(\"Size: \", myQueue.size())\n"
      ],
      "metadata": {
        "id": "-caLVZSfN9DF",
        "colab": {
          "base_uri": "https://localhost:8080/"
        },
        "outputId": "da2e8e6a-e186-449f-c834-a1c82e25ef8a"
      },
      "execution_count": 6,
      "outputs": [
        {
          "output_type": "stream",
          "name": "stdout",
          "text": [
            "Queue:  ['A', 'B', 'C']\n",
            "Dequeue:  A\n",
            "Peek:  B\n",
            "isEmpty:  False\n",
            "Size:  2\n",
            "Queue:  ['A', 'B', 'C']\n",
            "Dequeue:  A\n",
            "Peek:  B\n",
            "isEmpty:  False\n",
            "Size:  2\n"
          ]
        }
      ]
    },
    {
      "cell_type": "markdown",
      "source": [
        "##📌 Contoh Studi Kasus: Antrian Pesanan Makanan di Restoran Cepat Saji\n",
        "\n",
        "\n",
        "Sebuah restoran cepat saji memiliki sistem antrian pesanan. Pelanggan memesan makanan, pesanan masuk ke antrian, lalu diproses satu per satu sesuai urutan kedatangan."
      ],
      "metadata": {
        "id": "7mXav7veOgbe"
      }
    },
    {
      "cell_type": "code",
      "source": [
        "\n",
        "queue = []\n",
        "\n",
        "# Enqueue: pelanggan pesan makanan\n",
        "def tambah_pesanan(nama_pesanan):\n",
        "    queue.append(nama_pesanan)\n",
        "    print(f\"Pesanan '{nama_pesanan}' ditambahkan ke antrian.\")\n",
        "\n",
        "# Dequeue: pesanan selesai diproses\n",
        "def proses_pesanan():\n",
        "    if not queue:\n",
        "        print(\"Antrian kosong, tidak ada pesanan yang diproses.\")\n",
        "        return\n",
        "    pesanan = queue.pop(0)\n",
        "    print(f\"Pesanan '{pesanan}' telah selesai diproses.\")\n",
        "\n",
        "# Simulasi\n",
        "tambah_pesanan(\"Burger\")\n",
        "tambah_pesanan(\"Ayam Goreng\")\n",
        "tambah_pesanan(\"Kentang Goreng\")\n",
        "\n",
        "print(\"Antrian saat ini:\", queue)\n",
        "\n",
        "proses_pesanan()\n",
        "proses_pesanan()\n",
        "\n",
        "print(\"Antrian setelah proses:\", queue)\n"
      ],
      "metadata": {
        "id": "qy_-XrYYOwoJ",
        "colab": {
          "base_uri": "https://localhost:8080/"
        },
        "outputId": "5bb29ab2-3737-4d6a-c3c8-c1f7fc1eab24"
      },
      "execution_count": 5,
      "outputs": [
        {
          "output_type": "stream",
          "name": "stdout",
          "text": [
            "Pesanan 'Burger' ditambahkan ke antrian.\n",
            "Pesanan 'Ayam Goreng' ditambahkan ke antrian.\n",
            "Pesanan 'Kentang Goreng' ditambahkan ke antrian.\n",
            "Antrian saat ini: ['Burger', 'Ayam Goreng', 'Kentang Goreng']\n",
            "Pesanan 'Burger' telah selesai diproses.\n",
            "Pesanan 'Ayam Goreng' telah selesai diproses.\n",
            "Antrian setelah proses: ['Kentang Goreng']\n"
          ]
        }
      ]
    },
    {
      "cell_type": "markdown",
      "source": [
        "## B. Queue dengan Linked List\n",
        "\n",
        "Kelebihan:\n",
        "- Ukuran dinamis → bisa nambah/kurang sesuai kebutuhan.\n",
        "- Tidak perlu geser data saat dequeue.\n",
        "\n",
        "Kekurangan:\n",
        "- Butuh memori lebih, karena tiap data harus simpan alamat (pointer) ke data berikutnya.\n",
        "- Lebih panjang kodenya dan agak lebih rumit."
      ],
      "metadata": {
        "id": "EQ0XyVpdPSwa"
      }
    },
    {
      "cell_type": "code",
      "source": [
        "class Node:\n",
        "  def __init__(self, data):\n",
        "    self.data = data\n",
        "    self.next = None\n",
        "\n",
        "class Queue:\n",
        "  def __init__(self):\n",
        "    self.front = None\n",
        "    self.rear = None\n",
        "    self.length = 0\n",
        "\n",
        "  def enqueue(self, element):\n",
        "    new_node = Node(element)\n",
        "    if self.rear is None:\n",
        "      self.front = self.rear = new_node\n",
        "      self.length += 1\n",
        "      return\n",
        "    self.rear.next = new_node\n",
        "    self.rear = new_node\n",
        "    self.length += 1\n",
        "\n",
        "  def dequeue(self):\n",
        "    if self.isEmpty():\n",
        "      return \"Queue is empty\"\n",
        "    temp = self.front\n",
        "    self.front = temp.next\n",
        "    self.length -= 1\n",
        "    if self.front is None:\n",
        "      self.rear = None\n",
        "    return temp.data\n",
        "\n",
        "  def peek(self):\n",
        "    if self.isEmpty():\n",
        "      return \"Queue is empty\"\n",
        "    return self.front.data\n",
        "\n",
        "  def isEmpty(self):\n",
        "    return self.length == 0\n",
        "\n",
        "  def size(self):\n",
        "    return self.length\n",
        "\n",
        "  def printQueue(self):\n",
        "    temp = self.front\n",
        "    while temp:\n",
        "      print(temp.data, end=\" -> \")\n",
        "      temp = temp.next\n",
        "    print()\n",
        "\n",
        "# Create a queue\n",
        "myQueue = Queue()\n",
        "\n",
        "myQueue.enqueue('A')\n",
        "myQueue.enqueue('B')\n",
        "myQueue.enqueue('C')\n",
        "\n",
        "print(\"Queue: \", end=\"\")\n",
        "myQueue.printQueue()\n",
        "print(\"Peek: \", myQueue.peek())\n",
        "print(\"Dequeue: \", myQueue.dequeue())\n",
        "print(\"Queue after Dequeue: \", end=\"\")\n",
        "myQueue.printQueue()\n",
        "print(\"isEmpty: \", myQueue.isEmpty())\n",
        "print(\"Size: \", myQueue.size())\n",
        "\n"
      ],
      "metadata": {
        "id": "pZwK2hKjPjN3",
        "colab": {
          "base_uri": "https://localhost:8080/"
        },
        "outputId": "675e1a03-c047-4fd5-b3fa-3a0c0969a900"
      },
      "execution_count": 4,
      "outputs": [
        {
          "output_type": "stream",
          "name": "stdout",
          "text": [
            "Queue: A -> B -> C -> \n",
            "Peek:  A\n",
            "Dequeue:  A\n",
            "Queue after Dequeue: B -> C -> \n",
            "isEmpty:  False\n",
            "Size:  2\n"
          ]
        }
      ]
    },
    {
      "cell_type": "markdown",
      "source": [
        "### 📌 Contoh Studi Kasus: Antrian Tiket Bioskop\n",
        "Sebuah bioskop memiliki sistem antrian pembelian tiket. Penonton datang satu per satu, masuk ke antrian, dan membeli tiket sesuai urutan kedatangan."
      ],
      "metadata": {
        "id": "JHwzjsZZPrFR"
      }
    },
    {
      "cell_type": "code",
      "source": [
        "class Node:\n",
        "    def __init__(self, data):\n",
        "        self.data = data\n",
        "        self.next = None\n",
        "\n",
        "class Queue:\n",
        "    def __init__(self):\n",
        "        self.front = None\n",
        "        self.rear = None\n",
        "\n",
        "    def enqueue(self, nama):\n",
        "        new_node = Node(nama)\n",
        "        if self.rear is None:\n",
        "            self.front = self.rear = new_node\n",
        "            print(f\"{nama} masuk antrian tiket.\")\n",
        "            return\n",
        "        self.rear.next = new_node\n",
        "        self.rear = new_node\n",
        "        print(f\"{nama} masuk antrian tiket.\")\n",
        "\n",
        "    def dequeue(self):\n",
        "        if self.front is None:\n",
        "            print(\"Tidak ada orang di antrian.\")\n",
        "            return\n",
        "        temp = self.front\n",
        "        self.front = temp.next\n",
        "        if self.front is None:\n",
        "            self.rear = None\n",
        "        print(f\"{temp.data} sudah membeli tiket dan keluar dari antrian.\")\n",
        "\n",
        "    def printQueue(self):\n",
        "        temp = self.front\n",
        "        if not temp:\n",
        "            print(\"Antrian kosong.\")\n",
        "            return\n",
        "        print(\"Antrian saat ini:\", end=\" \")\n",
        "        while temp:\n",
        "            print(temp.data, end=\" -> \")\n",
        "            temp = temp.next\n",
        "        print()\n",
        "\n",
        "# Simulasi\n",
        "antrian = Queue()\n",
        "antrian.enqueue(\"Andi\")\n",
        "antrian.enqueue(\"Budi\")\n",
        "antrian.enqueue(\"Citra\")\n",
        "antrian.printQueue()\n",
        "\n",
        "antrian.dequeue()\n",
        "antrian.printQueue()\n"
      ],
      "metadata": {
        "id": "rgDJCBeiP2PG",
        "colab": {
          "base_uri": "https://localhost:8080/"
        },
        "outputId": "4639d3b3-90c5-4552-90d0-c25f4217f9bc"
      },
      "execution_count": 3,
      "outputs": [
        {
          "output_type": "stream",
          "name": "stdout",
          "text": [
            "Andi masuk antrian tiket.\n",
            "Budi masuk antrian tiket.\n",
            "Citra masuk antrian tiket.\n",
            "Antrian saat ini: Andi -> Budi -> Citra -> \n",
            "Andi sudah membeli tiket dan keluar dari antrian.\n",
            "Antrian saat ini: Budi -> Citra -> \n"
          ]
        }
      ]
    },
    {
      "cell_type": "markdown",
      "source": [
        "## C. Queue dengan Python List\n",
        "\n",
        "Kelebihan\n",
        "- Dapat langsung digunakan tanpa perlu membuat struktur data tambahan.\n",
        "- Implementasinya sederhana dan mudah dipahami.\n",
        "\n",
        "Kekurangan\n",
        "- Sama seperti array, operasi dequeue (menghapus elemen paling depan) mengharuskan elemen lain bergeser satu posisi ke depan.\n",
        "\n",
        "- Pergeseran elemen tersebut membuat kinerja menjadi kurang efisien apabila jumlah data dalam antrian cukup besar."
      ],
      "metadata": {
        "id": "ZWG1z_xzP4QX"
      }
    },
    {
      "cell_type": "code",
      "source": [
        "queue = []\n",
        "\n",
        "# Enqueue\n",
        "queue.append('A')\n",
        "queue.append('B')\n",
        "queue.append('C')\n",
        "print(\"Queue: \", queue)\n",
        "\n",
        "# Peek\n",
        "frontElement = queue[0]\n",
        "print(\"Peek: \", frontElement)\n",
        "\n",
        "# Dequeue\n",
        "poppedElement = queue.pop(0)\n",
        "print(\"Dequeue: \", poppedElement)\n",
        "\n",
        "print(\"Queue after Dequeue: \", queue)\n",
        "\n",
        "# isEmpty\n",
        "isEmpty = not bool(queue)\n",
        "print(\"isEmpty: \", isEmpty)\n",
        "\n",
        "# Size\n",
        "print(\"Size: \", len(queue))\n",
        "\n",
        "\n",
        "#########Dengan Class Queue:\n",
        "class Queue:\n",
        "  def __init__(self):\n",
        "    self.queue = []\n",
        "\n",
        "  def enqueue(self, element):\n",
        "    self.queue.append(element)\n",
        "\n",
        "  def dequeue(self):\n",
        "    if self.isEmpty():\n",
        "      return \"Queue is empty\"\n",
        "    return self.queue.pop(0)\n",
        "\n",
        "  def peek(self):\n",
        "    if self.isEmpty():\n",
        "      return \"Queue is empty\"\n",
        "    return self.queue[0]\n",
        "\n",
        "  def isEmpty(self):\n",
        "    return len(self.queue) == 0\n",
        "\n",
        "  def size(self):\n",
        "    return len(self.queue)\n",
        "\n",
        "# Create a queue\n",
        "myQueue = Queue()\n",
        "\n",
        "myQueue.enqueue('A')\n",
        "myQueue.enqueue('B')\n",
        "myQueue.enqueue('C')\n",
        "\n",
        "print(\"Queue: \", myQueue.queue)\n",
        "print(\"Peek: \", myQueue.peek())\n",
        "print(\"Dequeue: \", myQueue.dequeue())\n",
        "print(\"Queue after Dequeue: \", myQueue.queue)\n",
        "print(\"isEmpty: \", myQueue.isEmpty())\n",
        "print(\"Size: \", myQueue.size())\n"
      ],
      "metadata": {
        "id": "ZAdcKuuDQUoS",
        "colab": {
          "base_uri": "https://localhost:8080/"
        },
        "outputId": "499eec6b-ece4-424d-8e5a-d4ebe206de86"
      },
      "execution_count": 2,
      "outputs": [
        {
          "output_type": "stream",
          "name": "stdout",
          "text": [
            "Queue:  ['A', 'B', 'C']\n",
            "Peek:  A\n",
            "Dequeue:  A\n",
            "Queue after Dequeue:  ['B', 'C']\n",
            "isEmpty:  False\n",
            "Size:  2\n",
            "Queue:  ['A', 'B', 'C']\n",
            "Peek:  A\n",
            "Dequeue:  A\n",
            "Queue after Dequeue:  ['B', 'C']\n",
            "isEmpty:  False\n",
            "Size:  2\n"
          ]
        }
      ]
    },
    {
      "cell_type": "markdown",
      "source": [
        "## 📌Contoh  Studi Kasus: Antrian Layanan Customer Service Bank\n",
        "Sebuah bank memiliki sistem antrian layanan customer service (CS). Nasabah mengambil nomor antrian, lalu dipanggil dan dilayani sesuai urutan kedatangan."
      ],
      "metadata": {
        "id": "yAW-Jlv6QWGH"
      }
    },
    {
      "cell_type": "code",
      "source": [
        "class Queue:\n",
        "    def __init__(self):\n",
        "        self.queue = []\n",
        "\n",
        "    def enqueue(self, nama):\n",
        "        self.queue.append(nama)\n",
        "        print(f\"{nama} mengambil nomor antrian CS.\")\n",
        "\n",
        "    def dequeue(self):\n",
        "        if self.isEmpty():\n",
        "            print(\"Tidak ada nasabah dalam antrian.\")\n",
        "            return\n",
        "        nama = self.queue.pop(0)\n",
        "        print(f\"{nama} sedang dilayani CS.\")\n",
        "\n",
        "    def peek(self):\n",
        "        if self.isEmpty():\n",
        "            print(\"Antrian kosong.\")\n",
        "            return\n",
        "        return self.queue[0]\n",
        "\n",
        "    def isEmpty(self):\n",
        "        return len(self.queue) == 0\n",
        "\n",
        "    def size(self):\n",
        "        return len(self.queue)\n",
        "\n",
        "# Simulasi\n",
        "antrian_cs = Queue()\n",
        "antrian_cs.enqueue(\"Dewi\")\n",
        "antrian_cs.enqueue(\"Eko\")\n",
        "antrian_cs.enqueue(\"Farah\")\n",
        "\n",
        "print(\"Nasabah pertama dalam antrian:\", antrian_cs.peek())\n",
        "\n",
        "antrian_cs.dequeue()\n",
        "antrian_cs.dequeue()\n",
        "\n",
        "print(\"Sisa antrian:\", antrian_cs.queue)\n"
      ],
      "metadata": {
        "id": "ya9x2rcdQdgT",
        "colab": {
          "base_uri": "https://localhost:8080/"
        },
        "outputId": "df8975bf-5975-41eb-c1f6-2b82b0a7db55"
      },
      "execution_count": 1,
      "outputs": [
        {
          "output_type": "stream",
          "name": "stdout",
          "text": [
            "Dewi mengambil nomor antrian CS.\n",
            "Eko mengambil nomor antrian CS.\n",
            "Farah mengambil nomor antrian CS.\n",
            "Nasabah pertama dalam antrian: Dewi\n",
            "Dewi sedang dilayani CS.\n",
            "Eko sedang dilayani CS.\n",
            "Sisa antrian: ['Farah']\n"
          ]
        }
      ]
    },
    {
      "cell_type": "markdown",
      "source": [
        "Tugas Praktikum\n",
        "\n",
        "    0. Praktikkan struktur data dalam praktikum ini\n",
        "    1. Algoritma Stack (LIFO – Last In First Out)\n",
        "    Studi Kasus  : Simulasi tombol Undo dalam aplikasi teks.\n",
        "    Algoritma:\n",
        "      1. Buat struktur data Stack kosong\n",
        "      2. Selama pengguna belum selesai:\n",
        "        a. Jika input adalah kata:\n",
        "        - Push kata ke Stack\n",
        "        b. Jika input adalah \"UNDO\":\n",
        "        - Pop elemen terakhir dari Stack\n",
        "        c. Tampilkan isi Stack sebagai teks saat ini\n",
        "\n",
        "    2. Algoritma Queue (FIFO – First In First Out)\n",
        "    Studi Kasus : Antrian pembelian tiket.\n",
        "    Algoritma:\n",
        "      1. Buat struktur data Queue kosong\n",
        "      2. Selama pengguna belum selesai:\n",
        "        a. Jika input adalah nama pelanggan:\n",
        "        - Enqueue nama ke Queue\n",
        "        b. Jika input adalah \"LAYANI\":\n",
        "        - Dequeue pelanggan pertama dari Queue\n",
        "        c. Tampilkan isi Queue sebagai daftar antrian saat ini"
      ],
      "metadata": {
        "id": "ufnGIhbE-umx"
      }
    }
  ]
}