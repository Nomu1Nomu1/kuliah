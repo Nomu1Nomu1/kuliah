{
  "cells": [
    {
      "cell_type": "markdown",
      "metadata": {
        "id": "-JFM556OY6GG"
      },
      "source": [
        "## Modul Praktikum : Analisis Kompleksitas Waktu dan Ruang Algoritma"
      ]
    },
    {
      "cell_type": "markdown",
      "metadata": {
        "id": "G1HDG6QwZTqR"
      },
      "source": [
        "Tujuan Praktikum\n",
        "\n",
        "Mahasiswa mampu:\n",
        "\n",
        "    Mahasiswa dapat menghitung dan membandingkan kompleksitas algoritma menggunakan notasi Big-O.\n",
        "    Mahasiswa dapat membandingkan efisiensi algoritma berdasarkan kompleksitasnya."
      ]
    },
    {
      "cell_type": "markdown",
      "metadata": {
        "id": "Z9-NwDmXZsqK"
      },
      "source": [
        "referensi :\n",
        "1. https://www.w3schools.com/dsa/dsa_timecomplexity_theory.php\n",
        "2. https://www.geeksforgeeks.org/dsa/analysis-of-algorithms/\n",
        "3. https://roadmap.sh/datastructures-and-algorithms\n",
        "4. https://www.bigocheatsheet.com/"
      ]
    },
    {
      "cell_type": "markdown",
      "metadata": {
        "id": "oAXZ_mw6azAN"
      },
      "source": [
        "## Deskripsi\n",
        "Modul ini menggunakan Python untuk mengimplementasikan beberapa algoritma dasar dan mengukur:\n",
        "\n",
        "    Kompleksitas waktu: seberapa lama algoritma berjalan.\n",
        "    Kompleksitas ruang: seberapa banyak memori yang digunakan.\n"
      ]
    },
    {
      "cell_type": "markdown",
      "metadata": {
        "id": "YdAPoJYNYXnU"
      },
      "source": [
        "**Runtime (Waktu Eksekusi)**\n",
        "\n",
        "Untuk benar-benar memahami algoritma, kita harus memahami bagaimana cara mengevaluasi waktu yang dibutuhkan algoritma untuk menyelesaikan tugasnya, yaitu runtime."
      ]
    },
    {
      "cell_type": "markdown",
      "metadata": {
        "id": "SEetY4AKYf5X"
      },
      "source": [
        "Mengapa Runtime Penting?\n",
        "\n",
        "Menelusuri runtime algoritma sangat penting karena:\n",
        "\n",
        "    Menggunakan algoritma yang tidak efisien dapat membuat program menjadi lambat atau bahkan tidak dapat dijalankan.\n",
        "    Dengan memahami runtime, kita bisa:\n",
        "        Memilih algoritma yang tepat sesuai kebutuhan.\n",
        "        Membuat program berjalan lebih cepat.\n",
        "        Menangani jumlah data yang lebih besar secara efektif.\n"
      ]
    },
    {
      "cell_type": "markdown",
      "metadata": {
        "id": "eK1R9SPqYozn"
      },
      "source": [
        "**Runtime Aktual (Waktu Nyata)**\n",
        "\n",
        "Saat mempertimbangkan runtime algoritma, kita tidak melihat waktu nyata yang digunakan oleh implementasi algoritma, dan berikut alasannya:\n",
        "\n",
        "Runtime aktual dipengaruhi oleh banyak faktor, seperti:\n",
        "\n",
        "    Bahasa pemrograman yang digunakan\n",
        "    Cara penulisan kode oleh programmer\n",
        "    Kompiler atau interpreter yang digunakan\n",
        "    Perangkat keras (hardware) tempat algoritma dijalankan\n",
        "    Sistem operasi dan proses lain yang berjalan di komputer\n",
        "    Jumlah data yang diproses oleh algoritma\n",
        "\n",
        "Dengan begitu banyak faktor yang memengaruhi runtime aktual, bagaimana kita bisa tahu apakah satu algoritma lebih cepat dari yang lain?\n",
        "\n",
        "Maka dari itu, kita memerlukan ukuran runtime yang lebih baik dan lebih konsisten, yaitu kompleksitas waktu menggunakan notasi Big O."
      ]
    },
    {
      "cell_type": "markdown",
      "metadata": {
        "id": "ZylXuubBXmgw"
      },
      "source": [
        "**Kompleksitas Waktu (Time Complexity)** adalah cara untuk mengukur seberapa efisien sebuah algoritma dalam hal jumlah operasi yang dibutuhkan untuk menyelesaikan tugasnya, tanpa memperhatikan faktor eksternal seperti:\n",
        "\n",
        "    Bahasa pemrograman yang digunakan\n",
        "    Cara penulisan kode oleh programmer\n",
        "    Kompiler atau interpreter\n",
        "    Perangkat keras (hardware)\n",
        "    Sistem operasi dan proses lain yang berjalan\n",
        "\n",
        "Karena banyak faktor memengaruhi waktu eksekusi nyata, maka kompleksitas waktu digunakan sebagai ukuran yang lebih abstrak dan konsisten."
      ]
    },
    {
      "cell_type": "markdown",
      "metadata": {
        "id": "O47WWBU1YF-Q"
      },
      "source": [
        "Mengapa Kompleksitas Waktu Penting?\n",
        "\n",
        "Memahami kompleksitas waktu membantu kita:\n",
        "\n",
        "    Memilih algoritma yang paling efisien\n",
        "    Membuat program lebih cepat\n",
        "    Menangani data dalam jumlah besar dengan lebih efektif\n",
        "\n",
        "\n",
        "Contoh Sederhana: Mencari Nilai Terkecil dalam Array\n",
        "\n",
        "Misalnya kita ingin mencari nilai terkecil dalam array. Algoritma harus membandingkan setiap elemen satu kali. Maka:\n",
        "\n",
        "    Untuk 100 elemen → 100 perbandingan\n",
        "    Untuk 5000 elemen → 5000 perbandingan\n",
        "\n",
        "Artinya, jumlah operasi meningkat secara linear terhadap jumlah data. Ini disebut kompleksitas waktu linear atau O(n)."
      ]
    },
    {
      "cell_type": "markdown",
      "metadata": {
        "id": "k_Hb-um1Y0dN"
      },
      "source": [
        "**\"One Operation/Satu Operasi\"**\n",
        "\n",
        "Saat membahas \"operasi\" dalam konteks algoritma, \"satu operasi\" bisa berarti satu atau beberapa siklus CPU. Istilah ini digunakan sebagai bentuk abstraksi agar kita bisa memahami kompleksitas waktu dan menghitungnya untuk berbagai algoritma.\n",
        "\n",
        "Satu operasi dalam algoritma dapat dipahami sebagai tindakan yang dilakukan dalam setiap iterasi, atau untuk setiap elemen data, yang memerlukan waktu konstan.\n",
        "\n",
        "Contoh:\n",
        "  Membandingkan dua elemen dalam array dan menukarnya jika salah satunya lebih besar (seperti pada algoritma Bubble Sort) bisa dianggap sebagai satu operasi.\n",
        "  Apakah kita menganggapnya sebagai satu, dua, atau tiga operasi tidak memengaruhi kompleksitas waktu, karena semuanya tetap memerlukan waktu konstan."
      ]
    },
    {
      "cell_type": "markdown",
      "metadata": {
        "id": "K8xezb8rZF8F"
      },
      "source": [
        "Waktu Konstan\n",
        "\n",
        "Kita mengatakan bahwa suatu operasi memerlukan waktu konstan jika waktu yang dibutuhkan tidak tergantung pada jumlah data (n) yang diproses oleh algoritma.\n",
        "\n",
        "Contoh:\n",
        "Membandingkan dua elemen tertentu dalam array dan menukarnya jika perlu, akan memakan waktu yang sama baik array-nya berisi 10 atau 1000 elemen."
      ]
    },
    {
      "cell_type": "markdown",
      "metadata": {
        "id": "r_vE87LJZSMZ"
      },
      "source": [
        "**Notasi Big O**\n",
        "\n",
        "Dalam matematika, notasi Big O digunakan untuk menggambarkan batas atas dari suatu fungsi.\n",
        "\n",
        "Dalam ilmu komputer, notasi Big O digunakan secara khusus untuk menentukan kompleksitas waktu terburuk (worst-case) dari sebuah algoritma.\n",
        "\n",
        "Notasi ini menggunakan huruf kapital O dengan tanda kurung: O(), dan di dalam kurung terdapat ekspresi yang menunjukkan runtime algoritma.\n",
        "Runtime biasanya dinyatakan dengan n, yaitu jumlah elemen dalam dataset yang sedang diproses oleh algoritma."
      ]
    },
    {
      "cell_type": "markdown",
      "metadata": {
        "id": "m7dw2sRjWjJZ"
      },
      "source": [
        "**Kompleksitas Ruang (Space Complexity)**\n",
        "\n",
        "Kompleksitas ruang adalah ukuran berapa banyak memori tambahan yang dibutuhkan oleh sebuah algoritma untuk menyelesaikan tugasnya, terlepas dari ukuran input.\n",
        "\n",
        "Mengapa Kompleksitas Ruang Penting?\n",
        "\n",
        "    Membantu memilih algoritma yang efisien dalam penggunaan memori.\n",
        "    Penting untuk sistem dengan keterbatasan RAM atau penyimpanan.\n",
        "    Berguna dalam pemrosesan data besar (big data), embedded systems, dan aplikasi mobile.\n"
      ]
    },
    {
      "cell_type": "markdown",
      "metadata": {
        "id": "LsIrHuzYaC1M"
      },
      "source": [
        "**Best, Average, dan Worst Case**\n",
        "\n",
        "Worst case (kasus terburuk) dalam kompleksitas waktu sudah disebutkan saat menjelaskan notasi Big O, tapi bagaimana sebuah algoritma bisa memiliki skenario terburuk?\n",
        "\n",
        "Contoh Kasus Tetap\n",
        "\n",
        "Algoritma yang mencari nilai terkecil dalam array berisi n elemen akan selalu melakukan n operasi, tidak peduli apa isi array-nya.\n",
        "Artinya, algoritma ini memiliki best case, average case, dan worst case yang sama.\n",
        "\n",
        "Kasus yang Bervariasi\n",
        "\n",
        "Namun, untuk banyak algoritma lainnya, meskipun jumlah data n tetap, runtime-nya bisa sangat berbeda tergantung pada nilai-nilai aktual dalam data.\n",
        "\n",
        "Contoh: Algoritma Pengurutan (Sorting)\n",
        "Algoritma pengurutan bisa memiliki waktu eksekusi yang berbeda tergantung pada bagaimana data awalnya tersusun.\n",
        "\n",
        "Ilustrasi Manual\n",
        "\n",
        "Bayangkan Anda harus mengurutkan 20 angka dari yang terkecil ke yang terbesar:\n",
        "\n",
        "    8, 16, 19, 15, 2, 17, 4, 11, 6, 1, 7, 13, 5, 3, 9, 12, 14, 20, 18, 10\n",
        "\n",
        "Ini akan memakan waktu beberapa detik karena data acak.\n",
        "\n",
        "Sekarang bayangkan Anda harus mengurutkan 20 angka yang hampir terurut:\n",
        "\n",
        "    1, 2, 3, 4, 5, 20, 6, 7, 8, 9, 10, 11, 12, 13, 14, 15, 16, 17, 18, 19\n",
        "\n",
        "Anda bisa menyelesaikannya dengan cepat, cukup memindahkan angka 20 ke akhir.\n",
        "\n",
        "Kesimpulan\n",
        "\n",
        "Algoritma bekerja dengan cara yang mirip:\n",
        "Untuk jumlah data yang sama, kadang bisa cepat, kadang bisa lambat, tergantung pada kondisi data.\n",
        "\n",
        "Oleh karena itu, untuk membandingkan algoritma secara adil, kita biasanya menggunakan skenario terburuk (worst-case) dan menyatakannya dengan notasi Big O."
      ]
    },
    {
      "cell_type": "markdown",
      "metadata": {
        "id": "ZFu_dYiAZk_0"
      },
      "source": [
        "## Searching (Pencarian)\n",
        "\n"
      ]
    },
    {
      "cell_type": "markdown",
      "metadata": {
        "id": "7WavcD773XbS"
      },
      "source": [
        "**Linear Search**\n",
        "\n",
        "Algoritma pencarian yang termasuk dalam kategori algoritma brute-force atau sekuensial.\n",
        "\n",
        "    Tidak memerlukan data yang terurut.\n",
        "    Linear Search memeriksa setiap elemen satu per satu.\n",
        "    Jika elemen ditemukan, fungsi mengembalikan True.\n",
        "    Jika tidak ditemukan setelah memeriksa semua elemen, fungsi mengembalikan False.\n",
        "    Waktu eksekusi tergantung pada panjang array: semakin panjang, semakin lama.\n",
        "\n",
        "Cara Kerja Linear Search:\n",
        "\n",
        "    Mulai dari elemen pertama dalam array.\n",
        "    Bandingkan elemen saat ini dengan nilai yang dicari (target).\n",
        "    Jika cocok, kembalikan hasil (misalnya True atau indeks elemen).\n",
        "    Jika tidak cocok, lanjut ke elemen berikutnya.\n",
        "    Ulangi sampai elemen ditemukan atau semua elemen telah diperiksa.\n",
        "    Jika tidak ditemukan, kembalikan hasil negatif (misalnya False atau -1).\n",
        "\n",
        "   \n"
      ]
    },
    {
      "cell_type": "code",
      "execution_count": 3,
      "metadata": {
        "colab": {
          "base_uri": "https://localhost:8080/"
        },
        "id": "Sz978xutZuNq",
        "outputId": "6f7ed7e6-1cbc-4cfd-8492-337d9942118a"
      },
      "outputs": [
        {
          "name": "stdout",
          "output_type": "stream",
          "text": [
            "70 ditemukan dalam data.\n"
          ]
        }
      ],
      "source": [
        "def linear_search(arr, target):\n",
        "    \"\"\"\n",
        "    Melakukan pencarian linear terhadap elemen target dalam array.\n",
        "    Kompleksitas waktu: O(n)\n",
        "    \"\"\"\n",
        "    for i in arr:\n",
        "        if i == target:\n",
        "            return True\n",
        "    return False\n",
        "\n",
        "# Contoh penggunaan\n",
        "data = [10, 23, 45, 70, 11, 15]\n",
        "target = 70\n",
        "\n",
        "if linear_search(data, target):\n",
        "    print(f\"{target} ditemukan dalam data.\")\n",
        "else:\n",
        "    print(f\"{target} tidak ditemukan dalam data.\")\n"
      ]
    },
    {
      "cell_type": "markdown",
      "metadata": {
        "id": "jEXEdiF8TRAV"
      },
      "source": [
        "Kompleksitas waktu: *O*(*n*)"
      ]
    },
    {
      "cell_type": "code",
      "execution_count": 7,
      "metadata": {
        "colab": {
          "base_uri": "https://localhost:8080/",
          "height": 607
        },
        "id": "d5nOSRpQJZzA",
        "outputId": "6ebe52bb-d00a-4b90-fef2-d5fd97775c4d"
      },
      "outputs": [
        {
          "data": {
            "image/png": "[encoded data removed]",
            "text/plain": [
              "<Figure size 1000x600 with 1 Axes>"
            ]
          },
          "metadata": {},
          "output_type": "display_data"
        }
      ],
      "source": [
        "import time\n",
        "import matplotlib.pyplot as plt\n",
        "import random\n",
        "\n",
        "def linear_search(arr, target):\n",
        "    for i in arr:\n",
        "        if i == target:\n",
        "            return True\n",
        "    return False\n",
        "\n",
        "# Ukuran data yang akan diuji\n",
        "data_sizes = [100, 500, 1000, 5000, 10000, 20000, 30000]\n",
        "execution_times = []\n",
        "\n",
        "# Uji waktu eksekusi untuk setiap ukuran data\n",
        "for size in data_sizes:\n",
        "    data = list(range(size))\n",
        "    target = size - 1  # target di akhir untuk worst-case scenario\n",
        "    start_time = time.time()\n",
        "    linear_search(data, target)\n",
        "    end_time = time.time()\n",
        "    execution_times.append(end_time - start_time)\n",
        "\n",
        "# Plot grafik\n",
        "plt.figure(figsize=(10, 6))\n",
        "plt.plot(data_sizes, execution_times, marker='o', linestyle='-', color='blue')\n",
        "plt.title('Linear Search Execution Time vs Data Size')\n",
        "plt.xlabel('Data Size (Number of Elements)')\n",
        "plt.ylabel('Execution Time (seconds)')\n",
        "plt.grid(True)\n",
        "plt.tight_layout()\n",
        "plt.savefig(\"linear_search_complexity.png\")\n",
        "plt.show()\n",
        "\n"
      ]
    },
    {
      "cell_type": "markdown",
      "metadata": {
        "id": "cxnDDCx0LWbt"
      },
      "source": [
        " Waktu meningkat secara linear seiring bertambahnya data."
      ]
    },
    {
      "cell_type": "markdown",
      "metadata": {
        "id": "jNSCJS-9IkIg"
      },
      "source": [
        "**Binary Search**\n",
        "\n",
        "Algoritma pencarian yang digunakan untuk menemukan posisi suatu elemen dalam array yang sudah terurut.\n",
        "Algoritma ini bekerja dengan membagi dua bagian array secara berulang, sehingga kompleksitas waktunya adalah O(log n).\n",
        "\n",
        "Cara Kerja Binary Search:\n",
        "\n",
        "    Tentukan batas bawah (low) dan batas atas (high) dari array.\n",
        "    Hitung indeks tengah (mid).\n",
        "    Bandingkan elemen di mid dengan target:\n",
        "        Jika sama, pencarian selesai.\n",
        "        Jika target lebih kecil, cari di bagian kiri.\n",
        "        Jika target lebih besar, cari di bagian kanan.\n",
        "    Ulangi proses sampai elemen ditemukan atau batas bawah melebihi batas atas.\n",
        "\n"
      ]
    },
    {
      "cell_type": "code",
      "execution_count": 8,
      "metadata": {
        "colab": {
          "base_uri": "https://localhost:8080/"
        },
        "id": "QSF5XXl5IhWW",
        "outputId": "95e43f2b-c27a-4870-9407-163fe2818d6f"
      },
      "outputs": [
        {
          "name": "stdout",
          "output_type": "stream",
          "text": [
            "25 ditemukan dalam data.\n"
          ]
        }
      ],
      "source": [
        "def binary_search(arr, target):\n",
        "    \"\"\"\n",
        "    Melakukan pencarian biner terhadap elemen target dalam array yang sudah terurut.\n",
        "    Kompleksitas waktu: O(log n)\n",
        "    \"\"\"\n",
        "    low = 0\n",
        "    high = len(arr) - 1\n",
        "\n",
        "    while low <= high:\n",
        "        mid = (low + high) // 2\n",
        "        if arr[mid] == target:\n",
        "            return True\n",
        "        elif arr[mid] < target:\n",
        "            low = mid + 1\n",
        "        else:\n",
        "            high = mid - 1\n",
        "\n",
        "    return False\n",
        "\n",
        "# Contoh penggunaan\n",
        "data = [5, 10, 15, 20, 25, 30, 35, 40]\n",
        "target = 25\n",
        "\n",
        "if binary_search(data, target):\n",
        "    print(f\"{target} ditemukan dalam data.\")\n",
        "else:\n",
        "    print(f\"{target} tidak ditemukan dalam data.\")\n"
      ]
    },
    {
      "cell_type": "markdown",
      "metadata": {
        "id": "LiksjPVSZs1B"
      },
      "source": [
        "## Sorting (Pengurutan)"
      ]
    },
    {
      "cell_type": "markdown",
      "metadata": {
        "id": "SUWceluFZymL"
      },
      "source": [
        "\n",
        "    Bubble Sort: Tukar elemen berulang kali. Kompleksitas: O(n²)\n",
        "    Selection Sort: Pilih elemen terkecil dan tukar. Kompleksitas: O(n²)\n",
        "    Insertion Sort: Sisipkan elemen ke posisi yang tepat. Kompleksitas: O(n²)\n",
        "    Merge Sort: Bagi dan gabungkan. Kompleksitas: O(nlog⁡n)\n",
        "    Quick Sort: Bagi berdasarkan pivot. Kompleksitas: O(nlog⁡n)(rata-rata)\n"
      ]
    },
    {
      "cell_type": "markdown",
      "metadata": {
        "id": "tJ84A24LKMDg"
      },
      "source": [
        "**Bubble Sort**"
      ]
    },
    {
      "cell_type": "code",
      "execution_count": 9,
      "metadata": {
        "colab": {
          "base_uri": "https://localhost:8080/"
        },
        "id": "bTwVqnFCKUnV",
        "outputId": "3e754428-a230-4f20-86e1-ed5b37249336"
      },
      "outputs": [
        {
          "name": "stdout",
          "output_type": "stream",
          "text": [
            "Data setelah diurutkan: [11, 12, 22, 25, 34, 64, 90]\n"
          ]
        }
      ],
      "source": [
        "def bubble_sort(arr):\n",
        "    \"\"\"\n",
        "    Mengurutkan array menggunakan algoritma Bubble Sort.\n",
        "    Kompleksitas waktu: O(n^2)\n",
        "    \"\"\"\n",
        "    n = len(arr)\n",
        "    for i in range(n):\n",
        "        for j in range(0, n - i - 1):\n",
        "            if arr[j] > arr[j + 1]:\n",
        "                arr[j], arr[j + 1] = arr[j + 1], arr[j]\n",
        "    return arr\n",
        "\n",
        "# Contoh penggunaan\n",
        "data = [64, 34, 25, 12, 22, 11, 90]\n",
        "sorted_data = bubble_sort(data)\n",
        "print(\"Data setelah diurutkan:\", sorted_data)\n"
      ]
    },
    {
      "cell_type": "markdown",
      "metadata": {
        "id": "XOykxHFEQvyg"
      },
      "source": [
        "Penjelasan Langkah-langkah Bubble Sort\n",
        "\n",
        "    n = len(arr)\n",
        "    Menghitung panjang array agar tahu berapa kali harus melakukan iterasi.\n",
        "\n",
        "    for i in range(n)\n",
        "    Loop luar mengontrol jumlah pass atau iterasi. Setiap pass akan menempatkan satu elemen terbesar ke posisi akhir yang benar.\n",
        "\n",
        "    for j in range(0, n - i - 1)\n",
        "    Loop dalam membandingkan pasangan elemen yang berdekatan dan menukar jika urutannya salah.\n",
        "        n - i - 1 digunakan karena elemen di akhir sudah terurut setelah setiap pass.\n",
        "\n",
        "    if arr[j] > arr[j + 1]\n",
        "    Jika elemen saat ini lebih besar dari elemen berikutnya, maka tukar posisi.\n",
        "\n",
        "    arr[j], arr[j + 1] = arr[j + 1], arr[j]\n",
        "    Menukar elemen menggunakan teknik penukaran Python.\n",
        "\n",
        "    return arr\n",
        "    Mengembalikan array yang sudah diurutkan.\n"
      ]
    },
    {
      "cell_type": "markdown",
      "metadata": {
        "id": "-IItI8DbQ7fL"
      },
      "source": [
        "**Selection Sort**"
      ]
    },
    {
      "cell_type": "code",
      "execution_count": 5,
      "metadata": {
        "colab": {
          "base_uri": "https://localhost:8080/"
        },
        "id": "T3MbqtTZQRhV",
        "outputId": "19e0c06f-9f7c-4d67-fc41-c6c86cbbb15b"
      },
      "outputs": [
        {
          "name": "stdout",
          "output_type": "stream",
          "text": [
            "Data setelah diurutkan: [11, 12, 22, 25, 64]\n"
          ]
        }
      ],
      "source": [
        "def selection_sort(arr):\n",
        "    \"\"\"\n",
        "    Mengurutkan array menggunakan algoritma Selection Sort.\n",
        "    Kompleksitas waktu: O(n^2)\n",
        "    \"\"\"\n",
        "    n = len(arr)\n",
        "    for i in range(n):\n",
        "        min_index = i  # Anggap elemen ke-i adalah yang terkecil\n",
        "        for j in range(i + 1, n):\n",
        "            if arr[j] < arr[min_index]:\n",
        "                min_index = j  # Temukan indeks elemen terkecil\n",
        "        # Tukar elemen terkecil dengan elemen ke-i\n",
        "        arr[i], arr[min_index] = arr[min_index], arr[i]\n",
        "    return arr\n",
        "\n",
        "# Contoh penggunaan\n",
        "data = [64, 25, 12, 22, 11]\n",
        "sorted_data = selection_sort(data)\n",
        "print(\"Data setelah diurutkan:\", sorted_data)\n"
      ]
    },
    {
      "cell_type": "markdown",
      "metadata": {
        "id": "QOVM8shkSxmv"
      },
      "source": [
        "Penjelasan Langkah-langkah Selection Sort:\n",
        "\n",
        "    Iterasi pertama (i = 0):\n",
        "        Cari elemen terkecil dari indeks 0 hingga akhir.\n",
        "        Tukar elemen terkecil dengan elemen di indeks 0.\n",
        "\n",
        "    Iterasi kedua (i = 1):\n",
        "        Cari elemen terkecil dari indeks 1 hingga akhir.\n",
        "        Tukar dengan elemen di indeks 1.\n",
        "\n",
        "    Ulangi proses hingga seluruh array terurut.\n"
      ]
    },
    {
      "cell_type": "markdown",
      "metadata": {
        "id": "nJPIuo7CRamh"
      },
      "source": [
        "**Insertion Sort**"
      ]
    },
    {
      "cell_type": "code",
      "execution_count": 6,
      "metadata": {
        "colab": {
          "base_uri": "https://localhost:8080/"
        },
        "id": "apdhBsc-Q9sx",
        "outputId": "f948f8b3-9cac-4909-830b-c13c9ed62f48"
      },
      "outputs": [
        {
          "name": "stdout",
          "output_type": "stream",
          "text": [
            "Data setelah diurutkan: [5, 6, 11, 12, 13]\n"
          ]
        }
      ],
      "source": [
        "def insertion_sort(arr):\n",
        "    \"\"\"\n",
        "    Mengurutkan array menggunakan algoritma Insertion Sort.\n",
        "    Kompleksitas waktu: O(n^2)\n",
        "    \"\"\"\n",
        "    for i in range(1, len(arr)):\n",
        "        key = arr[i]  # Elemen yang akan disisipkan\n",
        "        j = i - 1\n",
        "        # Geser elemen yang lebih besar ke kanan\n",
        "        while j >= 0 and arr[j] > key:\n",
        "            arr[j + 1] = arr[j]\n",
        "            j -= 1\n",
        "        # Sisipkan elemen pada posisi yang tepat\n",
        "        arr[j + 1] = key\n",
        "    return arr\n",
        "\n",
        "# Contoh penggunaan\n",
        "data = [12, 11, 13, 5, 6]\n",
        "sorted_data = insertion_sort(data)\n",
        "print(\"Data setelah diurutkan:\", sorted_data)\n"
      ]
    },
    {
      "cell_type": "markdown",
      "metadata": {
        "id": "65SeSoQsRVig"
      },
      "source": [
        "Penjelasan Langkah-langkah Insertion Sort\n",
        "\n",
        "    Mulai dari indeks ke-1 (karena elemen pertama dianggap sudah terurut).\n",
        "    Simpan elemen saat ini sebagai key.\n",
        "    Bandingkan key dengan elemen sebelumnya (arr[j]).\n",
        "    Geser elemen yang lebih besar ke kanan.\n",
        "    Sisipkan key pada posisi yang tepat.\n",
        "    Ulangi proses untuk semua elemen.\n"
      ]
    },
    {
      "cell_type": "markdown",
      "metadata": {
        "id": "OIqq1OOISAxd"
      },
      "source": [
        "**Merge sort**"
      ]
    },
    {
      "cell_type": "code",
      "execution_count": null,
      "metadata": {
        "colab": {
          "base_uri": "https://localhost:8080/"
        },
        "id": "sQq3Wg4aRkBk",
        "outputId": "34ed3eee-7776-48e6-f7fc-15f92a18412a"
      },
      "outputs": [
        {
          "name": "stdout",
          "output_type": "stream",
          "text": [
            "Data setelah diurutkan: [3, 9, 10, 27, 38, 43, 82]\n"
          ]
        }
      ],
      "source": [
        "def merge_sort(arr):\n",
        "    \"\"\"\n",
        "    Mengurutkan array menggunakan algoritma Merge Sort.\n",
        "    Kompleksitas waktu: O(n log n)\n",
        "    \"\"\"\n",
        "    if len(arr) > 1:\n",
        "        mid = len(arr) // 2  # Bagi array menjadi dua bagian\n",
        "        left_half = arr[:mid]\n",
        "        right_half = arr[mid:]\n",
        "\n",
        "        # Rekursif: urutkan kedua bagian\n",
        "        merge_sort(left_half)\n",
        "        merge_sort(right_half)\n",
        "\n",
        "        # Gabungkan hasil pengurutan\n",
        "        i = j = k = 0\n",
        "\n",
        "        # Bandingkan dan gabungkan elemen dari kedua bagian\n",
        "        while i < len(left_half) and j < len(right_half):\n",
        "            if left_half[i] < right_half[j]:\n",
        "                arr[k] = left_half[i]\n",
        "                i += 1\n",
        "            else:\n",
        "                arr[k] = right_half[j]\n",
        "                j += 1\n",
        "            k += 1\n",
        "\n",
        "        # Tambahkan sisa elemen dari left_half (jika ada)\n",
        "        while i < len(left_half):\n",
        "            arr[k] = left_half[i]\n",
        "            i += 1\n",
        "            k += 1\n",
        "\n",
        "        # Tambahkan sisa elemen dari right_half (jika ada)\n",
        "        while j < len(right_half):\n",
        "            arr[k] = right_half[j]\n",
        "            j += 1\n",
        "            k += 1\n",
        "\n",
        "    return arr\n",
        "\n",
        "# Contoh penggunaan\n",
        "data = [38, 27, 43, 3, 9, 82, 10]\n",
        "sorted_data = merge_sort(data)\n",
        "print(\"Data setelah diurutkan:\", sorted_data)\n"
      ]
    },
    {
      "cell_type": "markdown",
      "metadata": {
        "id": "_23l2Gs-SMqu"
      },
      "source": [
        "Penjelasan Merge Sort\n",
        "\n",
        "    Divide (Pecah)\n",
        "    Array dibagi dua secara rekursif hingga setiap bagian hanya memiliki satu elemen.\n",
        "\n",
        "    Conquer (Urutkan)\n",
        "    Setiap bagian kecil diurutkan (karena satu elemen dianggap sudah terurut).\n",
        "\n",
        "    Combine (Gabungkan)\n",
        "    Dua bagian yang sudah terurut digabungkan menjadi satu array terurut.\n"
      ]
    },
    {
      "cell_type": "markdown",
      "metadata": {
        "id": "D7YBh3tZSWTJ"
      },
      "source": [
        "**Quick sort**"
      ]
    },
    {
      "cell_type": "code",
      "execution_count": 8,
      "metadata": {
        "colab": {
          "base_uri": "https://localhost:8080/"
        },
        "id": "21zUA8ZoSVO5",
        "outputId": "d2a2e73b-9ed9-428e-fdd7-c2209aed7bef"
      },
      "outputs": [
        {
          "name": "stdout",
          "output_type": "stream",
          "text": [
            "Data setelah diurutkan: [1, 5, 7, 8, 9, 10]\n"
          ]
        }
      ],
      "source": [
        "def quick_sort(arr):\n",
        "    \"\"\"\n",
        "    Mengurutkan array menggunakan algoritma Quick Sort.\n",
        "    Kompleksitas waktu rata-rata: O(n log n)\n",
        "    Kompleksitas waktu terburuk: O(n^2)\n",
        "    \"\"\"\n",
        "    if len(arr) <= 1:\n",
        "        return arr  # Basis rekursi: array dengan 0 atau 1 elemen sudah terurut\n",
        "\n",
        "    pivot = arr[len(arr) // 2]  # Pilih elemen tengah sebagai pivot\n",
        "    left = [x for x in arr if x < pivot]      # Elemen lebih kecil dari pivot\n",
        "    middle = [x for x in arr if x == pivot]   # Elemen sama dengan pivot\n",
        "    right = [x for x in arr if x > pivot]     # Elemen lebih besar dari pivot\n",
        "\n",
        "    return quick_sort(left) + middle + quick_sort(right)\n",
        "\n",
        "# Contoh penggunaan\n",
        "data = [10, 7, 8, 9, 1, 5]\n",
        "sorted_data = quick_sort(data)\n",
        "print(\"Data setelah diurutkan:\", sorted_data)\n"
      ]
    },
    {
      "cell_type": "markdown",
      "metadata": {
        "id": "AN5k6Xv2SlpE"
      },
      "source": [
        "Penjelasan Langkah-langkah Quick Sort\n",
        "\n",
        "    Pilih Pivot\n",
        "    Elemen tengah dipilih sebagai pivot (bisa juga elemen pertama/terakhir/acak).\n",
        "\n",
        "    Partisi\n",
        "        left: semua elemen yang lebih kecil dari pivot.\n",
        "        middle: semua elemen yang sama dengan pivot.\n",
        "        right: semua elemen yang lebih besar dari pivot.\n",
        "\n",
        "    Rekursi\n",
        "    Quick Sort dipanggil secara rekursif pada left dan right.\n",
        "\n",
        "    Gabungkan\n",
        "    Hasil akhir adalah penggabungan dari quick_sort(left) + middle + quick_sort(right).\n"
      ]
    },
    {
      "cell_type": "markdown",
      "metadata": {
        "id": "5oe01W73Y4pv"
      },
      "source": [
        "## Tipe Array"
      ]
    },
    {
      "cell_type": "markdown",
      "metadata": {
        "id": "Ufhb2q3QZKpP"
      },
      "source": [
        "Array 1 Dimensi\n",
        "\n",
        "    Menyimpan data dalam satu baris."
      ]
    },
    {
      "cell_type": "code",
      "execution_count": 1,
      "metadata": {
        "colab": {
          "base_uri": "https://localhost:8080/"
        },
        "id": "VF-TUFgHY9D5",
        "outputId": "e993b54a-5916-4e90-94ef-e4dffb2c7466"
      },
      "outputs": [
        {
          "name": "stdout",
          "output_type": "stream",
          "text": [
            "Array 1 Dimensi: [10, 20, 30, 40]\n"
          ]
        }
      ],
      "source": [
        "# Array 1 Dimensi\n",
        "arr = [10, 20, 30, 40]\n",
        "\n",
        "# Menampilkan elemen\n",
        "print(\"Array 1 Dimensi:\", arr)\n"
      ]
    },
    {
      "cell_type": "markdown",
      "metadata": {
        "id": "zickGw_SZPgm"
      },
      "source": [
        "Array 2 Dimensi (Matrix)\n",
        "\n",
        "    Menyimpan data dalam bentuk baris dan kolom."
      ]
    },
    {
      "cell_type": "code",
      "execution_count": 2,
      "metadata": {
        "colab": {
          "base_uri": "https://localhost:8080/"
        },
        "id": "xPFy_ztpZAjE",
        "outputId": "5db94139-21ca-489e-f6b1-f59cdeb57874"
      },
      "outputs": [
        {
          "name": "stdout",
          "output_type": "stream",
          "text": [
            "Array 2 Dimensi (Matrix):\n",
            "[1, 2]\n",
            "[3, 4]\n"
          ]
        }
      ],
      "source": [
        "# Array 2 Dimensi\n",
        "matrix = [\n",
        "    [1, 2],\n",
        "    [3, 4]\n",
        "]\n",
        "\n",
        "# Menampilkan elemen\n",
        "print(\"Array 2 Dimensi (Matrix):\")\n",
        "for row in matrix:\n",
        "    print(row)\n"
      ]
    },
    {
      "cell_type": "markdown",
      "metadata": {
        "id": "aAKjRzFMZTth"
      },
      "source": [
        "Array Multidimensi\n",
        "\n",
        "    Array dengan lebih dari dua dimensi.\n",
        "\n",
        "Array 3 dimensi adalah struktur data yang menyimpan data dalam tiga tingkat kedalaman: baris, kolom, dan lapisan. Bisa dibayangkan seperti kumpulan matriks yang ditumpuk."
      ]
    },
    {
      "cell_type": "code",
      "execution_count": 3,
      "metadata": {
        "colab": {
          "base_uri": "https://localhost:8080/"
        },
        "id": "h-DnynQsZY5Q",
        "outputId": "a1ef62c9-ed36-4535-bb74-e0a12842c361"
      },
      "outputs": [
        {
          "name": "stdout",
          "output_type": "stream",
          "text": [
            "Array 3 Dimensi:\n",
            "[1, 2]\n",
            "[3, 4]\n",
            "[5, 6]\n",
            "[7, 8]\n"
          ]
        }
      ],
      "source": [
        "# Array 3 Dimensi\n",
        "\n",
        "tensor = [\n",
        "    [  # Lapisan 1\n",
        "        [1, 2],\n",
        "        [3, 4]\n",
        "    ],\n",
        "    [  # Lapisan 2\n",
        "        [5, 6],\n",
        "        [7, 8]\n",
        "    ]\n",
        "]\n",
        "\n",
        "# Menampilkan isi array 3 dimensi\n",
        "print(\"Array 3 Dimensi:\")\n",
        "for layer in tensor:\n",
        "    for row in layer:\n",
        "        print(row)"
      ]
    },
    {
      "cell_type": "markdown",
      "metadata": {
        "id": "KZ3g5K7mZU28"
      },
      "source": [
        "Array Dinamis\n",
        "\n",
        "    Ukurannya bisa berubah (misalnya: list di Python)."
      ]
    },
    {
      "cell_type": "code",
      "execution_count": 4,
      "metadata": {
        "colab": {
          "base_uri": "https://localhost:8080/"
        },
        "id": "VMOiE-SHaWQC",
        "outputId": "c67b9801-0b81-4cd5-82da-9f4e003b2282"
      },
      "outputs": [
        {
          "name": "stdout",
          "output_type": "stream",
          "text": [
            "Sebelum append: [10, 20, 30]\n",
            "Setelah append: [10, 20, 30, 50]\n"
          ]
        }
      ],
      "source": [
        "# Array Dinamis (menggunakan list Python)\n",
        "arr = [10, 20, 30]\n",
        "print(\"Sebelum append:\", arr)\n",
        "\n",
        "# Menambahkan elemen\n",
        "arr.append(50)\n",
        "print(\"Setelah append:\", arr)\n"
      ]
    },
    {
      "cell_type": "markdown",
      "metadata": {
        "id": "xo7Z8K2CUkie"
      },
      "source": [
        "Method sort ()\n",
        "\n",
        "  sort() adalah metode bawaan dari tipe data list di Python yang digunakan untuk mengurutkan elemen-elemen dalam list secara langsung (in-place)."
      ]
    },
    {
      "cell_type": "code",
      "execution_count": 9,
      "metadata": {
        "colab": {
          "base_uri": "https://localhost:8080/"
        },
        "id": "dCAUARTfUjJT",
        "outputId": "e108881e-b4dd-496d-c4c3-056710d6c5e5"
      },
      "outputs": [
        {
          "name": "stdout",
          "output_type": "stream",
          "text": [
            "Data setelah diurutkan: [1, 2, 5, 7, 9]\n"
          ]
        }
      ],
      "source": [
        "data = [5, 2, 9, 1, 7]\n",
        "data.sort()\n",
        "print(\"Data setelah diurutkan:\", data)\n"
      ]
    },
    {
      "cell_type": "markdown",
      "metadata": {
        "id": "Sj2WW3UlVLfm"
      },
      "source": [
        "Penjelasan Fitur sort()\n",
        "\n",
        "    In-place sorting: Mengubah urutan elemen dalam list asli, tidak mengembalikan list baru.\n",
        "    Default urutan: Naik (ascending).\n",
        "    Parameter opsional:\n",
        "        reverse=True: untuk urutan menurun.\n",
        "        key=function: untuk mengurutkan berdasarkan kriteria tertentu.\n"
      ]
    },
    {
      "cell_type": "code",
      "execution_count": 10,
      "metadata": {
        "colab": {
          "base_uri": "https://localhost:8080/"
        },
        "id": "I6qL5x00VQLn",
        "outputId": "90577abd-540b-404d-e481-c20c1fbb0ca6"
      },
      "outputs": [
        {
          "name": "stdout",
          "output_type": "stream",
          "text": [
            "[9, 7, 5, 2, 1]\n"
          ]
        }
      ],
      "source": [
        "#Urutan Menurun\n",
        "data = [5, 2, 9, 1, 7]\n",
        "data.sort(reverse=True)\n",
        "print(data)  # [9, 7, 5, 2, 1]\n"
      ]
    },
    {
      "cell_type": "code",
      "execution_count": 11,
      "metadata": {
        "colab": {
          "base_uri": "https://localhost:8080/"
        },
        "id": "jO8wTalCVdQk",
        "outputId": "e0a00c5e-5034-414b-f969-e0b3cc327c98"
      },
      "outputs": [
        {
          "name": "stdout",
          "output_type": "stream",
          "text": [
            "['Ali', 'Budi', 'Zahra', 'Nurul']\n"
          ]
        }
      ],
      "source": [
        "#Urut Berdasarkan Panjang String\n",
        "names = [\"Ali\", \"Zahra\", \"Nurul\", \"Budi\"]\n",
        "names.sort(key=len)\n",
        "print(names)  # ['Ali', 'Budi', 'Zahra', 'Nurul']\n"
      ]
    },
    {
      "cell_type": "markdown",
      "metadata": {
        "id": "cF-6gmtT3TK4"
      },
      "source": [
        "## Tugas Praktikum"
      ]
    },
    {
      "cell_type": "markdown",
      "metadata": {
        "id": "rc4HXUrAT4f9"
      },
      "source": [
        "1. Praktikkan semua algoritma dalam modul ini, kemudian jelaskan kompleksitas (algorithm complexity) masing-masing algoritma serta kelebihan dan kekurangannya"
      ]
    },
    {
      "cell_type": "markdown",
      "metadata": {
        "id": "Xspn3ttXWCxW"
      },
      "source": [
        "2. Buat contoh penggunaan masing-masing algoritma dalam sebuah studi kasus"
      ]
    },
    {
      "cell_type": "markdown",
      "metadata": {
        "id": "Wl3uyr3La85t"
      },
      "source": [
        "3. Buat Grafik perbandingan Best Case, Average Case, dan Worst Case dari beberapa algoritma pengurutan berdasarkan estimasi kompleksitas waktu untuk n = 1000"
      ]
    },
    {
      "cell_type": "markdown",
      "metadata": {
        "id": "cqr0Kl9VbDZk"
      },
      "source": [
        "![Screenshot 2025-09-15 at 05.49.28.png](data:image/png;base64,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)"
      ]
    }
  ],
  "metadata": {
    "colab": {
      "provenance": []
    },
    "kernelspec": {
      "display_name": "Python 3",
      "name": "python3"
    },
    "language_info": {
      "name": "python"
    }
  },
  "nbformat": 4,
  "nbformat_minor": 0
}
