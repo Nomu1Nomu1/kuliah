{
  "cells": [
    {
      "cell_type": "markdown",
      "metadata": {
        "id": "1YWVIWDn2Y4_"
      },
      "source": [
        "Modul Praktikum: Operasi Dasar pada Array dan Linked List"
      ]
    },
    {
      "cell_type": "markdown",
      "metadata": {
        "id": "ve9eDQSq2jXY"
      },
      "source": [
        "Tujuan Praktikum\n",
        "\n",
        "Mahasiswa mampu:\n",
        "\n",
        "    Memahami struktur data array dan linked list.\n",
        "    Mengimplementasikan operasi insert, delete, dan traverse pada array dan linked list.\n",
        "    Menganalisis kelebihan dan kekurangan masing-masing struktur data."
      ]
    },
    {
      "cell_type": "markdown",
      "metadata": {
        "id": "HfKKZ9042tFg"
      },
      "source": [
        "## Bagian 1: Operasi pada Array\n",
        "\n",
        "Insert (Penyisipan)\n",
        "\n",
        "    Menambahkan elemen baru ke dalam array pada posisi tertentu.\n",
        "    Karena array memiliki indeks tetap, saat menyisipkan elemen di tengah, elemen setelahnya harus digeser."
      ]
    },
    {
      "cell_type": "code",
      "execution_count": 1,
      "metadata": {
        "id": "JDmuoZvw29AN"
      },
      "outputs": [],
      "source": [
        "def insert_array(arr, index, value):\n",
        "    arr.insert(index, value)\n",
        "    return arr"
      ]
    },
    {
      "cell_type": "code",
      "execution_count": 2,
      "metadata": {
        "colab": {
          "base_uri": "https://localhost:8080/"
        },
        "id": "t8v1N61-416k",
        "outputId": "5c024bec-6bea-46eb-8804-ece9221b4fc2"
      },
      "outputs": [
        {
          "name": "stdout",
          "output_type": "stream",
          "text": [
            "[10, 15, 20, 30]\n"
          ]
        }
      ],
      "source": [
        "arr = [10, 20, 30]\n",
        "arr = insert_array(arr, 1, 15)  # Menyisipkan 15 di indeks ke-1\n",
        "print(arr)"
      ]
    },
    {
      "cell_type": "markdown",
      "metadata": {
        "id": "dKygTk_b3EQZ"
      },
      "source": [
        "Delete (Penghapusan)\n",
        "\n",
        "    Menghapus elemen dari array berdasarkan indeks.\n",
        "    Setelah elemen dihapus, elemen setelahnya akan bergeser ke kiri untuk mengisi posisi kosong."
      ]
    },
    {
      "cell_type": "code",
      "execution_count": 3,
      "metadata": {
        "id": "3GqH08XD3MSL"
      },
      "outputs": [],
      "source": [
        "def delete_array(arr, index):\n",
        "    if 0 <= index < len(arr):\n",
        "        arr.pop(index)\n",
        "    return arr"
      ]
    },
    {
      "cell_type": "code",
      "execution_count": 4,
      "metadata": {
        "colab": {
          "base_uri": "https://localhost:8080/"
        },
        "id": "KgsKiUMT5Zhe",
        "outputId": "a8e4da38-a485-433e-ac9d-26254d12111f"
      },
      "outputs": [
        {
          "name": "stdout",
          "output_type": "stream",
          "text": [
            "[10, 15, 30]\n"
          ]
        }
      ],
      "source": [
        "arr = delete_array(arr, 2)  # Menghapus elemen di indeks ke-2\n",
        "print(arr)\n"
      ]
    },
    {
      "cell_type": "markdown",
      "metadata": {
        "id": "-1R45xhs5ks6"
      },
      "source": [
        "Traverse (Penelusuran)\n",
        "\n",
        "    Menampilkan semua elemen dalam array satu per satu.\n",
        "    Traverse dilakukan dengan iterasi dari indeks pertama hingga terakhir."
      ]
    },
    {
      "cell_type": "code",
      "execution_count": 5,
      "metadata": {
        "id": "c09vsBy85kH3"
      },
      "outputs": [],
      "source": [
        "def traverse_array(arr):\n",
        "    for element in arr:\n",
        "        print(element)"
      ]
    },
    {
      "cell_type": "code",
      "execution_count": 6,
      "metadata": {
        "colab": {
          "base_uri": "https://localhost:8080/"
        },
        "id": "pVqkRALw6d8V",
        "outputId": "f542b37c-9120-4587-c314-35e8f8e0292c"
      },
      "outputs": [
        {
          "name": "stdout",
          "output_type": "stream",
          "text": [
            "10\n",
            "15\n",
            "30\n"
          ]
        }
      ],
      "source": [
        "traverse_array(arr)"
      ]
    },
    {
      "cell_type": "code",
      "execution_count": null,
      "metadata": {},
      "outputs": [],
      "source": []
    },
    {
      "cell_type": "markdown",
      "metadata": {
        "id": "dXEh3UgKBcH1"
      },
      "source": [
        "Count\n",
        "    \n",
        "    Menghitung berapa kali suatu nilai muncul dalam array."
      ]
    },
    {
      "cell_type": "code",
      "execution_count": 7,
      "metadata": {
        "id": "VpInfn8XBiBd"
      },
      "outputs": [],
      "source": [
        "def count_array(arr, value):\n",
        "    return arr.count(value)\n"
      ]
    },
    {
      "cell_type": "code",
      "execution_count": 8,
      "metadata": {
        "colab": {
          "base_uri": "https://localhost:8080/"
        },
        "id": "RwRiltc4BzIO",
        "outputId": "a3bfd61e-3760-4881-8c2c-9fce861103b2"
      },
      "outputs": [
        {
          "name": "stdout",
          "output_type": "stream",
          "text": [
            "Angka 5 muncul sebanyak 3 kali.\n"
          ]
        }
      ],
      "source": [
        "data = [5, 3, 7, 5, 2, 5, 9]\n",
        "jumlah = count_array(data, 5)\n",
        "print(f\"Angka 5 muncul sebanyak {jumlah} kali.\")\n"
      ]
    },
    {
      "cell_type": "markdown",
      "metadata": {
        "id": "sFNerkcbBfAr"
      },
      "source": [
        "Fungsi Len()\n",
        "\n",
        "    Menghitung jumlah elemen dalam array"
      ]
    },
    {
      "cell_type": "code",
      "execution_count": 9,
      "metadata": {
        "colab": {
          "base_uri": "https://localhost:8080/"
        },
        "id": "6SsV5WfzBehr",
        "outputId": "9f23490d-ee31-4e39-af79-dc6a19ca4a22"
      },
      "outputs": [
        {
          "name": "stdout",
          "output_type": "stream",
          "text": [
            "Jumlah elemen dalam array adalah 5\n"
          ]
        }
      ],
      "source": [
        "data = [10, 20, 30, 40, 50]\n",
        "jumlah_elemen = len(data)\n",
        "print(f\"Jumlah elemen dalam array adalah {jumlah_elemen}\")\n"
      ]
    },
    {
      "cell_type": "markdown",
      "metadata": {
        "id": "IaOa5QMWUMA1"
      },
      "source": [
        "Looping Elemen Array"
      ]
    },
    {
      "cell_type": "markdown",
      "metadata": {
        "id": "rYkJW4SAVr60"
      },
      "source": [
        "Menelusuri setiap elemen dalam sebuah array (atau list) satu per satu, biasanya menggunakan struktur perulangan seperti for atau while. Tujuannya bisa bermacam-macam, seperti:\n",
        "\n",
        "    mencetak isi array,\n",
        "    menghitung jumlah elemen,\n",
        "    mencari nilai tertentu,\n",
        "    memodifikasi elemen,\n",
        "    atau membuat array baru berdasarkan kondisi tertentu.\n"
      ]
    },
    {
      "cell_type": "code",
      "execution_count": 10,
      "metadata": {
        "colab": {
          "base_uri": "https://localhost:8080/"
        },
        "id": "GYS6A5Z5ULUZ",
        "outputId": "8f16a504-3939-4eda-8f12-dd88cfc91d9c"
      },
      "outputs": [
        {
          "name": "stdout",
          "output_type": "stream",
          "text": [
            "10\n",
            "20\n",
            "30\n",
            "40\n",
            "50\n"
          ]
        }
      ],
      "source": [
        "# Mencetak setiap elemen\n",
        "for elemen in data:\n",
        "    print(elemen)"
      ]
    },
    {
      "cell_type": "code",
      "execution_count": 11,
      "metadata": {
        "colab": {
          "base_uri": "https://localhost:8080/"
        },
        "id": "_zzcJuicWbYM",
        "outputId": "99d47014-c98a-4ded-8ac9-ff9791353962"
      },
      "outputs": [
        {
          "name": "stdout",
          "output_type": "stream",
          "text": [
            "20\n",
            "30\n",
            "40\n",
            "50\n"
          ]
        }
      ],
      "source": [
        "data = [10, 20, 30, 40, 50]\n",
        "i = 1\n",
        "\n",
        "#while kondisi:\n",
        "    # blok kode yang dijalankan selama kondisi True\n",
        "\n",
        "while i < len(data):\n",
        "    print(data[i])\n",
        "    i += 1"
      ]
    },
    {
      "cell_type": "markdown",
      "metadata": {
        "id": "OY8XRdzG7fQd"
      },
      "source": [
        "## Bagian 2: Operasi pada Linked List (Singly)"
      ]
    },
    {
      "cell_type": "markdown",
      "metadata": {
        "id": "sEcLTGny7zlJ"
      },
      "source": [
        "Struktur Node dan LinkedList"
      ]
    },
    {
      "cell_type": "code",
      "execution_count": 12,
      "metadata": {
        "id": "Bd7grmBr7x0K"
      },
      "outputs": [],
      "source": [
        "# Definisi Node\n",
        "class Node:\n",
        "    def __init__(self, data):\n",
        "        self.data = data\n",
        "        self.next = None\n",
        "\n",
        "# Definisi Linked List\n",
        "class LinkedList:\n",
        "    def __init__(self):\n",
        "        self.head = None"
      ]
    },
    {
      "cell_type": "markdown",
      "metadata": {
        "id": "xwtDSTFP76jM"
      },
      "source": [
        "Insert (Penyisipan)\n",
        "\n",
        "    Menambahkan node baru ke akhir linked list.\n",
        "    Penjelasan: Dibuat node baru, lalu disambungkan ke node terakhir. Jika list kosong, node menjadi head."
      ]
    },
    {
      "cell_type": "code",
      "execution_count": 13,
      "metadata": {
        "id": "pIgPoj4z7-IW"
      },
      "outputs": [],
      "source": [
        "    # Operasi Insert (menambahkan di akhir)\n",
        "    def insert(self, data):\n",
        "        new_node = Node(data)\n",
        "        if not self.head:\n",
        "            self.head = new_node\n",
        "            print(f\"Inserted {data} as head\")\n",
        "        else:\n",
        "            current = self.head\n",
        "            while current.next:\n",
        "                current = current.next\n",
        "            current.next = new_node\n",
        "            print(f\"Inserted {data} at the end\")\n"
      ]
    },
    {
      "cell_type": "code",
      "execution_count": 14,
      "metadata": {
        "colab": {
          "base_uri": "https://localhost:8080/"
        },
        "id": "8bP92PSc8eNQ",
        "outputId": "078eac4a-5160-40c9-de71-ea5d8d912349"
      },
      "outputs": [
        {
          "ename": "AttributeError",
          "evalue": "'LinkedList' object has no attribute 'insert'",
          "output_type": "error",
          "traceback": [
            "\u001b[31m---------------------------------------------------------------------------\u001b[39m",
            "\u001b[31mAttributeError\u001b[39m                            Traceback (most recent call last)",
            "\u001b[36mCell\u001b[39m\u001b[36m \u001b[39m\u001b[32mIn[14]\u001b[39m\u001b[32m, line 2\u001b[39m\n\u001b[32m      1\u001b[39m ll = LinkedList()\n\u001b[32m----> \u001b[39m\u001b[32m2\u001b[39m \u001b[43mll\u001b[49m\u001b[43m.\u001b[49m\u001b[43minsert\u001b[49m(\u001b[32m10\u001b[39m)     \u001b[38;5;66;03m# Menambahkan 10\u001b[39;00m\n\u001b[32m      3\u001b[39m ll.insert(\u001b[32m20\u001b[39m)     \u001b[38;5;66;03m# Menambahkan 20\u001b[39;00m\n\u001b[32m      4\u001b[39m ll.insert(\u001b[32m30\u001b[39m)     \u001b[38;5;66;03m# Menambahkan 30\u001b[39;00m\n",
            "\u001b[31mAttributeError\u001b[39m: 'LinkedList' object has no attribute 'insert'"
          ]
        }
      ],
      "source": [
        "ll = LinkedList()\n",
        "ll.insert(10)     # Menambahkan 10\n",
        "ll.insert(20)     # Menambahkan 20\n",
        "ll.insert(30)     # Menambahkan 30\n",
        "#ll.traverse()     # Menampilkan isi linked list"
      ]
    },
    {
      "cell_type": "markdown",
      "metadata": {
        "id": "QEbj47818F5-"
      },
      "source": [
        "Delete (Penghapusan)\n",
        "\n",
        "    Menghapus node berdasarkan nilai (bukan indeks).\n",
        "    Dicari node dengan nilai yang sesuai, lalu node sebelumnya disambungkan ke node setelahnya."
      ]
    },
    {
      "cell_type": "code",
      "execution_count": null,
      "metadata": {
        "id": "b50HjlhT8A5e"
      },
      "outputs": [],
      "source": [
        "    # Operasi Delete (menghapus berdasarkan nilai)\n",
        "    def delete(self, key):\n",
        "        current = self.head\n",
        "        prev = None\n",
        "        while current and current.data != key:\n",
        "            prev = current\n",
        "            current = current.next\n",
        "        if not current:\n",
        "            print(f\"Data {key} not found\")\n",
        "            return\n",
        "        if prev:\n",
        "            prev.next = current.next\n",
        "        else:\n",
        "            self.head = current.next\n",
        "        print(f\"Deleted {key}\")\n"
      ]
    },
    {
      "cell_type": "code",
      "execution_count": null,
      "metadata": {
        "colab": {
          "base_uri": "https://localhost:8080/"
        },
        "id": "8P2rK1Wp9nGe",
        "outputId": "5f6f703b-4c5a-4836-e7ea-49de4b778823"
      },
      "outputs": [
        {
          "name": "stdout",
          "output_type": "stream",
          "text": [
            "Deleted 20\n"
          ]
        }
      ],
      "source": [
        "ll.delete(20)  # Menghapus node dengan data 200"
      ]
    },
    {
      "cell_type": "markdown",
      "metadata": {
        "id": "KLsbJ0jh8OLG"
      },
      "source": [
        "Traverse (Penelusuran)\n",
        "\n",
        "    Menampilkan semua data dalam linked list.\n",
        "    Dilakukan dengan menelusuri dari head hingga node terakhir (yang next-nya None)."
      ]
    },
    {
      "cell_type": "code",
      "execution_count": null,
      "metadata": {
        "id": "xK4mL-oT8HmI"
      },
      "outputs": [],
      "source": [
        "    # Operasi Traverse (menampilkan semua data)\n",
        "    def traverse(self):\n",
        "        current = self.head\n",
        "        print(\"Linked List contents:\")\n",
        "        while current:\n",
        "            print(current.data)\n",
        "            current = current.next\n"
      ]
    },
    {
      "cell_type": "code",
      "execution_count": null,
      "metadata": {
        "colab": {
          "base_uri": "https://localhost:8080/"
        },
        "id": "pN7CQ-mR8R36",
        "outputId": "49fb49a9-a25c-4f98-a8d4-52f9c0280e2a"
      },
      "outputs": [
        {
          "name": "stdout",
          "output_type": "stream",
          "text": [
            "Linked List contents:\n",
            "10\n",
            "30\n"
          ]
        }
      ],
      "source": [
        "ll.traverse()"
      ]
    },
    {
      "cell_type": "markdown",
      "metadata": {
        "id": "xWb7bJYm8__H"
      },
      "source": [
        "Algoritma Find The Lowest Value in a Linked List"
      ]
    },
    {
      "cell_type": "code",
      "execution_count": null,
      "metadata": {
        "colab": {
          "base_uri": "https://localhost:8080/"
        },
        "id": "e-P9GrSv9Fhu",
        "outputId": "83f9544c-96f9-40e8-a88a-d68aa37f75d5"
      },
      "outputs": [
        {
          "name": "stdout",
          "output_type": "stream",
          "text": [
            "The lowest value in the linked list is: 2\n"
          ]
        }
      ],
      "source": [
        "# Membuat kelas Node untuk struktur data linked list\n",
        "class Node:\n",
        "    def __init__(self, data):\n",
        "        self.data = data      # Menyimpan nilai data\n",
        "        self.next = None      # Pointer ke node berikutnya (default None)\n",
        "\n",
        "# Fungsi untuk mencari nilai terkecil dalam linked list\n",
        "def findLowestValue(head):\n",
        "    minValue = head.data             # Inisialisasi nilai minimum dengan data dari head\n",
        "    currentNode = head.next          # Mulai dari node kedua\n",
        "    while currentNode:               # Selama node masih ada\n",
        "        if currentNode.data < minValue:  # Jika data lebih kecil dari nilai minimum saat ini\n",
        "            minValue = currentNode.data  # Update nilai minimum\n",
        "        currentNode = currentNode.next   # Lanjut ke node berikutnya\n",
        "    return minValue                  # Kembalikan nilai minimum\n",
        "\n",
        "# Membuat node-node linked list secara manual\n",
        "node1 = Node(7)\n",
        "node2 = Node(11)\n",
        "node3 = Node(3)\n",
        "node4 = Node(2)\n",
        "node5 = Node(9)\n",
        "\n",
        "# Menyambungkan node-node menjadi linked list\n",
        "node1.next = node2\n",
        "node2.next = node3\n",
        "node3.next = node4\n",
        "node4.next = node5\n",
        "\n",
        "# Menampilkan nilai terkecil dalam linked list\n",
        "print(\"The lowest value in the linked list is:\", findLowestValue(node1))\n"
      ]
    },
    {
      "cell_type": "markdown",
      "metadata": {
        "id": "cNiPS_jXzXf-"
      },
      "source": [
        "## Tipe-tipe Linked Lists\n",
        "\n",
        "ref: https://www.w3schools.com/dsa/dsa_data_linkedlists_types.php"
      ]
    },
    {
      "cell_type": "markdown",
      "metadata": {
        "id": "muyzdIt_0tkS"
      },
      "source": [
        "Singly Linked List:\n",
        "\n",
        "  Setiap node hanya menunjuk ke node berikutnya.\n",
        "  Cocok untuk operasi insert/delete di awal.\n",
        "\n",
        "    Andi -> Budi -> Citra -> None\n",
        "    Setelah delete \"Budi\":\n",
        "    Andi -> Citra -> None\n"
      ]
    },
    {
      "cell_type": "code",
      "execution_count": null,
      "metadata": {
        "colab": {
          "base_uri": "https://localhost:8080/"
        },
        "id": "VqRsanZC4KhE",
        "outputId": "add09ec7-e8bd-406c-82b7-f6a32ebc671e"
      },
      "outputs": [
        {
          "name": "stdout",
          "output_type": "stream",
          "text": [
            "Andi -> Budi -> Citra -> Lia -> null\n"
          ]
        }
      ],
      "source": [
        "class Node:\n",
        "    def __init__(self, data):\n",
        "        self.data = data\n",
        "        self.next = None\n",
        "\n",
        "node1 = Node(\"Andi\")\n",
        "node2 = Node(\"Budi\")\n",
        "node3 = Node(\"Citra\")\n",
        "node4 = Node(\"Lia\")\n",
        "\n",
        "node1.next = node2\n",
        "node2.next = node3\n",
        "node3.next = node4\n",
        "\n",
        "currentNode = node1\n",
        "while currentNode:\n",
        "    print(currentNode.data, end=\" -> \")\n",
        "    currentNode = currentNode.next\n",
        "print(\"null\")"
      ]
    },
    {
      "cell_type": "markdown",
      "metadata": {
        "id": "illhncxs1cp-"
      },
      "source": [
        "Doubly Linked List (forward):\n",
        "\n",
        "  Setiap node menunjuk ke node sebelumnya dan berikutnya.\n",
        "  Cocok untuk navigasi dua arah dan delete di tengah.\n",
        "\n",
        "\n",
        "    Transaksi A <-> Transaksi B <-> Transaksi C <-> None\n",
        "    Setelah delete \"Transaksi B\":\n",
        "    Transaksi A <-> Transaksi C <-> None\n"
      ]
    },
    {
      "cell_type": "code",
      "execution_count": null,
      "metadata": {
        "colab": {
          "base_uri": "https://localhost:8080/"
        },
        "id": "79Az3EJk3tUV",
        "outputId": "80af8f70-9af0-4df2-d12a-04206727ccd9"
      },
      "outputs": [
        {
          "name": "stdout",
          "output_type": "stream",
          "text": [
            "\n",
            "Traversing forward:\n",
            "Transaksi A -> Transaksi B -> Transaksi C -> Transaksi D -> null\n",
            "\n",
            "Traversing backward:\n",
            "Transaksi D -> Transaksi C -> Transaksi B -> Transaksi A -> null\n"
          ]
        }
      ],
      "source": [
        "# Membuat kelas Node untuk Doubly Linked List\n",
        "class Node:\n",
        "    def __init__(self, data):\n",
        "        self.data = data      # Menyimpan data (misalnya nama transaksi)\n",
        "        self.next = None      # Pointer ke node berikutnya\n",
        "        self.prev = None      # Pointer ke node sebelumnya\n",
        "\n",
        "# Membuat node-node transaksi\n",
        "node1 = Node(\"Transaksi A\")\n",
        "node2 = Node(\"Transaksi B\")\n",
        "node3 = Node(\"Transaksi C\")\n",
        "node4 = Node(\"Transaksi D\")\n",
        "\n",
        "# Menyambungkan node-node secara dua arah (doubly linked list)\n",
        "node1.next = node2           # node1 → node2\n",
        "node2.prev = node1           # node2 ← node1\n",
        "node2.next = node3           # node2 → node3\n",
        "node3.prev = node2           # node3 ← node2\n",
        "node3.next = node4           # node3 → node4\n",
        "node4.prev = node3           # node4 ← node3\n",
        "\n",
        "# Traversal maju (forward) dari node pertama ke terakhir\n",
        "print(\"\\nTraversing forward:\")\n",
        "currentNode = node1\n",
        "while currentNode:\n",
        "    print(currentNode.data, end=\" -> \")\n",
        "    currentNode = currentNode.next\n",
        "print(\"null\")  # Menandakan akhir dari list\n",
        "\n",
        "# Traversal mundur (backward) dari node terakhir ke pertama\n",
        "print(\"\\nTraversing backward:\")\n",
        "currentNode = node4\n",
        "while currentNode:\n",
        "    print(currentNode.data, end=\" -> \")\n",
        "    currentNode = currentNode.prev\n",
        "print(\"null\")  # Menandakan awal dari list"
      ]
    },
    {
      "cell_type": "markdown",
      "metadata": {
        "id": "5v2Mj9dC2Hva"
      },
      "source": [
        "Circular Singly Linked List:\n",
        "\n",
        "  Node terakhir menunjuk kembali ke node pertama.\n",
        "  Cocok untuk sistem antrian berputar (misalnya antrian pemeriksaan).\n",
        "\n",
        "    Pasien 1 -> Pasien 2 -> Pasien 3 -> (back to start)\n",
        "    Setelah delete \"Pasien 2\":\n",
        "    Pasien 1 -> Pasien 3 -> (back to start)\n"
      ]
    },
    {
      "cell_type": "code",
      "execution_count": 1,
      "metadata": {
        "colab": {
          "base_uri": "https://localhost:8080/"
        },
        "id": "elZttmIj4uv7",
        "outputId": "0719772d-9d04-4d77-d601-afff794e977f"
      },
      "outputs": [
        {
          "name": "stdout",
          "output_type": "stream",
          "text": [
            "Pasien 1 -> Pasien 2 -> Pasien 3 -> Pasien 4 -> ...\n"
          ]
        }
      ],
      "source": [
        "# Membuat kelas Node untuk struktur data linked list\n",
        "class Node:\n",
        "    def __init__(self, data):\n",
        "        self.data = data      # Menyimpan nilai data\n",
        "        self.next = None      # Pointer ke node berikutnya\n",
        "\n",
        "# Membuat node-node linked list\n",
        "node1 = Node(\"Pasien 1\")\n",
        "node2 = Node(\"Pasien 2\")\n",
        "node3 = Node(\"Pasien 3\")\n",
        "node4 = Node(\"Pasien 4\")\n",
        "\n",
        "# Menyambungkan node-node menjadi circular linked list\n",
        "node1.next = node2\n",
        "node2.next = node3\n",
        "node3.next = node4\n",
        "node4.next = node1  # Node terakhir menunjuk kembali ke node pertama. Baris ini membuat linked list tunggal menjadi melingkar (circular).\n",
        "\n",
        "# Traversal circular linked list\n",
        "currentNode = node1\n",
        "startNode = node1 #Inilah cara program mengetahui kapan harus berhenti agar hanya menelusuri list satu kali.\n",
        "\n",
        "# Cetak data node pertama\n",
        "print(currentNode.data, end=\" -> \")\n",
        "currentNode = currentNode.next\n",
        "\n",
        "# Lanjutkan traversal sampai kembali ke node awal\n",
        "while currentNode != startNode:\n",
        "    print(currentNode.data, end=\" -> \")\n",
        "    currentNode = currentNode.next\n",
        "\n",
        "# Menandakan akhir traversal (meskipun circular, kita hentikan saat kembali ke awal)\n",
        "print(\"...\")\n"
      ]
    },
    {
      "cell_type": "markdown",
      "metadata": {
        "id": "dsKhxhd2Ba3U"
      },
      "source": [
        "Circular Doubly Linked List"
      ]
    },
    {
      "cell_type": "code",
      "execution_count": null,
      "metadata": {
        "colab": {
          "base_uri": "https://localhost:8080/"
        },
        "id": "qP_gYaSIBalk",
        "outputId": "1cf3cc65-9564-4591-be5a-f87780cf2562"
      },
      "outputs": [
        {
          "name": "stdout",
          "output_type": "stream",
          "text": [
            "\n",
            "Traversing forward:\n",
            "3 -> 5 -> 13 -> 2 -> ...\n",
            "\n",
            "Traversing backward:\n",
            "2 -> 13 -> 5 -> 3 -> ...\n"
          ]
        }
      ],
      "source": [
        "# Membuat kelas Node untuk Circular Doubly Linked List\n",
        "class Node:\n",
        "    def __init__(self, data):\n",
        "        self.data = data      # Menyimpan data (misalnya angka atau nama transaksi)\n",
        "        self.next = None      # Pointer ke node berikutnya\n",
        "        self.prev = None      # Pointer ke node sebelumnya\n",
        "\n",
        "# Membuat node-node\n",
        "node1 = Node(3)\n",
        "node2 = Node(5)\n",
        "node3 = Node(13)\n",
        "node4 = Node(2)\n",
        "\n",
        "# Menyambungkan node-node secara dua arah dan melingkar\n",
        "node1.next = node2          # node1 → node2\n",
        "node1.prev = node4          # node1 ← node4\n",
        "\n",
        "node2.prev = node1          # node2 ← node1\n",
        "node2.next = node3          # node2 → node3\n",
        "\n",
        "node3.prev = node2          # node3 ← node2\n",
        "node3.next = node4          # node3 → node4\n",
        "\n",
        "node4.prev = node3          # node4 ← node3\n",
        "node4.next = node1          # node4 → node1 (membuat list menjadi melingkar)\n",
        "\n",
        "# Traversal maju (forward) dari node1 ke node4, lalu kembali ke node1\n",
        "print(\"\\nTraversing forward:\")\n",
        "currentNode = node1\n",
        "startNode = node1\n",
        "print(currentNode.data, end=\" -> \")  # Cetak data node pertama\n",
        "currentNode = currentNode.next\n",
        "\n",
        "while currentNode != startNode:      # Loop sampai kembali ke node awal\n",
        "    print(currentNode.data, end=\" -> \")\n",
        "    currentNode = currentNode.next\n",
        "print(\"...\")  # Menandakan bahwa traversal selesai satu putaran\n",
        "\n",
        "# Traversal mundur (backward) dari node4 ke node1, lalu kembali ke node4\n",
        "print(\"\\nTraversing backward:\")\n",
        "currentNode = node4\n",
        "startNode = node4\n",
        "print(currentNode.data, end=\" -> \")  # Cetak data node terakhir\n",
        "currentNode = currentNode.prev\n",
        "\n",
        "while currentNode != startNode:      # Loop sampai kembali ke node awal\n",
        "    print(currentNode.data, end=\" -> \")\n",
        "    currentNode = currentNode.prev\n",
        "print(\"...\")  # Menandakan bahwa traversal selesai satu putaran\n"
      ]
    },
    {
      "cell_type": "markdown",
      "metadata": {
        "id": "lllYdqgP6jgH"
      },
      "source": [
        "## Tugas Praktikum\n",
        "\n",
        "    1. Implementasikan semua operasi di atas.\n",
        "    2. Buat program dengan studi kasus pengelolaan harga barang\n",
        "    - buat daftar produk dan harga (minimal ada 10 jenis barang beserta harganya)\n",
        "    - tampilkan produk dan harga sebelum diurutkan\n",
        "    - buat fungsi bubble sort untuk mengurutkan harga produk dari yang termurah ke yang termahal\n",
        "    (Bubble Sort adalah algoritma yang mengurutkan array dari nilai terkecil ke nilai terbesar)\n",
        "    - tampilkan produk dan harga sesudah diurutkan\n",
        "    - ubah 5 harga produk yang termahal menjadi 1% lebih murah dari harga sebelumnya\n",
        "    - urutkan kembali produk dan harga dari yang termurah ke yang termahal\n",
        "    - tampilkan produk dan harga sesudah diurutkan\n",
        "    3. Buat program dengan studi kasus antrian layanan nasabah bank\n",
        "    - buat dan tampilkan daftar nasabah beserta keperluannya (min: 10 nasabah)\n",
        "    - buat dua antrian (misal : CS A dan CS B)\n",
        "    - tambah nasabah ke antrian tampilkan antrian nasabah aktif\n",
        "    - layani nasabah satu per satu sampai antrian habis\n",
        "    - jika semua nasabah sudah dilayani maka layanan ditutup (cetak =\"layanan tutup\")\n",
        "    4. Buat implementasi masing-masing tipe Linked List dengan operasi insert, delete dan transverse\n",
        "    5. Bandingkan tipe Linked List berdasarkan Arah Navigasi, Efisiensi Insert/Delete dan kegunaanya\n",
        "    6. Bagaimana cara membandingkan efisiensi array vs linked list dalam hal insert dan delete. Jelaskan!\n",
        "    (baca: time complexity/kompleksitas waktu)\n"
      ]
    },
    {
      "cell_type": "markdown",
      "metadata": {
        "id": "7IqF6U24CLIb"
      },
      "source": [
        "## Algoritma Bubble Sort\n",
        "\n",
        "    Mengurutkan array dengan cara membandingkan dan menukar elemen berdekatan secara berulang hingga array terurut.\n",
        "    ref: https://www.w3schools.com/dsa/dsa_algo_bubblesort.php"
      ]
    },
    {
      "cell_type": "code",
      "execution_count": null,
      "metadata": {
        "id": "wE-vGtlmCUFY"
      },
      "outputs": [],
      "source": [
        "def bubble_sort(arr):\n",
        "    n = len(arr)  # Mengambil panjang array\n",
        "    for i in range(n):  # Melakukan iterasi sebanyak n kali\n",
        "        for j in range(0, n-i-1):  # Membandingkan elemen yang berdekatan\n",
        "            if arr[j] > arr[j+1]:  # Jika elemen saat ini lebih besar dari elemen berikutnya\n",
        "                arr[j], arr[j+1] = arr[j+1], arr[j]  # Tukar posisi kedua elemen\n",
        "    return arr  # Mengembalikan array yang telah diurutkan"
      ]
    },
    {
      "cell_type": "code",
      "execution_count": null,
      "metadata": {
        "colab": {
          "base_uri": "https://localhost:8080/"
        },
        "id": "KtWW82_YClCD",
        "outputId": "d0d08359-2ef6-47e2-93ba-49c91e73572b"
      },
      "outputs": [
        {
          "name": "stdout",
          "output_type": "stream",
          "text": [
            "Data setelah diurutkan: [11, 12, 22, 25, 34, 64, 90]\n"
          ]
        }
      ],
      "source": [
        "data = [64, 34, 25, 12, 22, 11, 90]\n",
        "sorted_data = bubble_sort(data)\n",
        "print(\"Data setelah diurutkan:\", sorted_data)"
      ]
    }
  ],
  "metadata": {
    "colab": {
      "provenance": []
    },
    "kernelspec": {
      "display_name": "Python 3",
      "name": "python3"
    },
    "language_info": {
      "codemirror_mode": {
        "name": "ipython",
        "version": 3
      },
      "file_extension": ".py",
      "mimetype": "text/x-python",
      "name": "python",
      "nbconvert_exporter": "python",
      "pygments_lexer": "ipython3",
      "version": "3.13.5"
    }
  },
  "nbformat": 4,
  "nbformat_minor": 0
}
